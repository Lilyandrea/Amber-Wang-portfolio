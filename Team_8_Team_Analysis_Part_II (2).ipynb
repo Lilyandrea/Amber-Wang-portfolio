{
 "cells": [
  {
   "cell_type": "markdown",
   "metadata": {},
   "source": [
    "<h2>Introduction and Preparation</h2>\n",
    "\n",
    "__Hult International Business School__ <br>\n",
    "__Joint Project with SQL - Part II (Team)__ <br>\n",
    "Team 8: Amber Wang, Darshil Panchal, Pieter Bernardus, Pranay Rajeshwar, Tareq K, Yash Maradia <br>\n",
    "\n",
    "<br>\n",
    "Run the following code to import necessary packages, load data, and set display options. \n",
    "<br>\n",
    "\n",
    "__Packages to be install:__ <br>\n",
    "    + pip install sklearn  <br>\n",
    "    + pip install statsmodels <br>\n"
   ]
  },
  {
   "cell_type": "markdown",
   "metadata": {},
   "source": [
    "__Preface__ :\n",
    "Introducing the classification model for predicting the wholesalers and the personal customers based on the data.\n",
    "\n",
    "+ Confusion Matrix from model - part1: <br>\n",
    "   [[161      6] <br>\n",
    "   [ 25      8]]\n",
    "\n",
    "+ The model had a biased recommendations for the predicting the type of the customers for the business - \"Flora\" which they   were ready to begin their new journey in the start of new venture strategy. Such type of model from the part-1 using the   supervised learning model of ML predicts as ~90% customers as the wholesalers compared to that of personal customers.\n",
    "\n",
    "+ This type of the predictions will end up in the various problems for the company where they are trying to invest in the     new ventures. with the lack of robustness in the dataset and wrong predictions leads to the heavy investment in the wrong   campaigns and new innovations of technology which involves heavy investments.\n",
    "\n",
    "+ No proper planning nor using the correctness of the data analysis leads to various disaster situations which end up in     doing lots of disaster recovery with correctness and involving the cost.\n",
    "\n",
    "+ Further exhibihilating the SQL database of H_Retail to get righteous variables to calculate the actual things to perform   the robust recommendations to the management to take the right path of business development and growth trends of the company.\n",
    "\n",
    "+ Through the optimizing code from SQL we fetched the data required for the classification model for the improvements."
   ]
  },
  {
   "cell_type": "markdown",
   "metadata": {},
   "source": [
    "### Coding Begins.!!"
   ]
  },
  {
   "cell_type": "code",
   "execution_count": 1,
   "metadata": {},
   "outputs": [
    {
     "name": "stdout",
     "output_type": "stream",
     "text": [
      "(1021, 19)\n"
     ]
    },
    {
     "data": {
      "text/html": [
       "<div>\n",
       "<style scoped>\n",
       "    .dataframe tbody tr th:only-of-type {\n",
       "        vertical-align: middle;\n",
       "    }\n",
       "\n",
       "    .dataframe tbody tr th {\n",
       "        vertical-align: top;\n",
       "    }\n",
       "\n",
       "    .dataframe thead th {\n",
       "        text-align: right;\n",
       "    }\n",
       "</style>\n",
       "<table border=\"1\" class=\"dataframe\">\n",
       "  <thead>\n",
       "    <tr style=\"text-align: right;\">\n",
       "      <th></th>\n",
       "      <th>customer_id</th>\n",
       "      <th>sex</th>\n",
       "      <th>age</th>\n",
       "      <th>occupation</th>\n",
       "      <th>employment_type</th>\n",
       "      <th>education</th>\n",
       "      <th>country_code</th>\n",
       "      <th>completed_years_of_education</th>\n",
       "      <th>marital_status</th>\n",
       "      <th>relationship_in_household</th>\n",
       "      <th>race</th>\n",
       "      <th>times_bought</th>\n",
       "      <th>N1_times_bought</th>\n",
       "      <th>N2_times_bought</th>\n",
       "      <th>quantity_bought</th>\n",
       "      <th>N1_quantity_bought</th>\n",
       "      <th>N2_quantity_bought</th>\n",
       "      <th>money_spent</th>\n",
       "      <th>type_of_client</th>\n",
       "    </tr>\n",
       "  </thead>\n",
       "  <tbody>\n",
       "    <tr>\n",
       "      <th>0</th>\n",
       "      <td>1504001</td>\n",
       "      <td>M</td>\n",
       "      <td>44</td>\n",
       "      <td>Other-occupations</td>\n",
       "      <td>Other-employments</td>\n",
       "      <td>High Education</td>\n",
       "      <td>US</td>\n",
       "      <td>13</td>\n",
       "      <td>Married-civ-spouse</td>\n",
       "      <td>Husband</td>\n",
       "      <td>White</td>\n",
       "      <td>53.0</td>\n",
       "      <td>0</td>\n",
       "      <td>0</td>\n",
       "      <td>127.0</td>\n",
       "      <td>0</td>\n",
       "      <td>1</td>\n",
       "      <td>274.66</td>\n",
       "      <td>1</td>\n",
       "    </tr>\n",
       "    <tr>\n",
       "      <th>1</th>\n",
       "      <td>3928504</td>\n",
       "      <td>M</td>\n",
       "      <td>21</td>\n",
       "      <td>Other-occupations</td>\n",
       "      <td>Other-employments</td>\n",
       "      <td>Some-college</td>\n",
       "      <td>US</td>\n",
       "      <td>10</td>\n",
       "      <td>Never-married</td>\n",
       "      <td>Not-in-family</td>\n",
       "      <td>White</td>\n",
       "      <td>31.0</td>\n",
       "      <td>0</td>\n",
       "      <td>0</td>\n",
       "      <td>113.0</td>\n",
       "      <td>0</td>\n",
       "      <td>1</td>\n",
       "      <td>388.40</td>\n",
       "      <td>1</td>\n",
       "    </tr>\n",
       "    <tr>\n",
       "      <th>2</th>\n",
       "      <td>5997529</td>\n",
       "      <td>F</td>\n",
       "      <td>19</td>\n",
       "      <td>Other-occupations</td>\n",
       "      <td>Other-employments</td>\n",
       "      <td>Low Education</td>\n",
       "      <td>US</td>\n",
       "      <td>7</td>\n",
       "      <td>Never-married</td>\n",
       "      <td>Other-relative</td>\n",
       "      <td>White</td>\n",
       "      <td>7.0</td>\n",
       "      <td>1</td>\n",
       "      <td>0</td>\n",
       "      <td>19.0</td>\n",
       "      <td>1</td>\n",
       "      <td>0</td>\n",
       "      <td>110.18</td>\n",
       "      <td>0</td>\n",
       "    </tr>\n",
       "    <tr>\n",
       "      <th>3</th>\n",
       "      <td>14044670</td>\n",
       "      <td>F</td>\n",
       "      <td>32</td>\n",
       "      <td>Other-occupations</td>\n",
       "      <td>Other-employments</td>\n",
       "      <td>High Education</td>\n",
       "      <td>US</td>\n",
       "      <td>13</td>\n",
       "      <td>Never-married</td>\n",
       "      <td>Not-in-family</td>\n",
       "      <td>White</td>\n",
       "      <td>166.0</td>\n",
       "      <td>0</td>\n",
       "      <td>0</td>\n",
       "      <td>598.0</td>\n",
       "      <td>0</td>\n",
       "      <td>0</td>\n",
       "      <td>1408.16</td>\n",
       "      <td>1</td>\n",
       "    </tr>\n",
       "    <tr>\n",
       "      <th>4</th>\n",
       "      <td>16835953</td>\n",
       "      <td>M</td>\n",
       "      <td>54</td>\n",
       "      <td>Other-occupations</td>\n",
       "      <td>Other-employments</td>\n",
       "      <td>High Education</td>\n",
       "      <td>US</td>\n",
       "      <td>9</td>\n",
       "      <td>Married-civ-spouse</td>\n",
       "      <td>Husband</td>\n",
       "      <td>White</td>\n",
       "      <td>96.0</td>\n",
       "      <td>0</td>\n",
       "      <td>0</td>\n",
       "      <td>403.0</td>\n",
       "      <td>0</td>\n",
       "      <td>0</td>\n",
       "      <td>700.75</td>\n",
       "      <td>1</td>\n",
       "    </tr>\n",
       "    <tr>\n",
       "      <th>5</th>\n",
       "      <td>19383612</td>\n",
       "      <td>M</td>\n",
       "      <td>60</td>\n",
       "      <td>Prof-specialty</td>\n",
       "      <td>Other-employments</td>\n",
       "      <td>High Education</td>\n",
       "      <td>US</td>\n",
       "      <td>13</td>\n",
       "      <td>Married-civ-spouse</td>\n",
       "      <td>Husband</td>\n",
       "      <td>White</td>\n",
       "      <td>3.0</td>\n",
       "      <td>1</td>\n",
       "      <td>0</td>\n",
       "      <td>3.0</td>\n",
       "      <td>1</td>\n",
       "      <td>0</td>\n",
       "      <td>-34.05</td>\n",
       "      <td>1</td>\n",
       "    </tr>\n",
       "    <tr>\n",
       "      <th>6</th>\n",
       "      <td>21318515</td>\n",
       "      <td>M</td>\n",
       "      <td>36</td>\n",
       "      <td>Other-occupations</td>\n",
       "      <td>Other-employments</td>\n",
       "      <td>Some-college</td>\n",
       "      <td>Non_US</td>\n",
       "      <td>10</td>\n",
       "      <td>Married-civ-spouse</td>\n",
       "      <td>Husband</td>\n",
       "      <td>Other</td>\n",
       "      <td>287.0</td>\n",
       "      <td>0</td>\n",
       "      <td>0</td>\n",
       "      <td>779.0</td>\n",
       "      <td>0</td>\n",
       "      <td>0</td>\n",
       "      <td>1857.97</td>\n",
       "      <td>1</td>\n",
       "    </tr>\n",
       "    <tr>\n",
       "      <th>7</th>\n",
       "      <td>23055398</td>\n",
       "      <td>F</td>\n",
       "      <td>50</td>\n",
       "      <td>Other-occupations</td>\n",
       "      <td>Federal-gov</td>\n",
       "      <td>High Education</td>\n",
       "      <td>US</td>\n",
       "      <td>14</td>\n",
       "      <td>Never-married</td>\n",
       "      <td>Not-in-family</td>\n",
       "      <td>White</td>\n",
       "      <td>85.0</td>\n",
       "      <td>0</td>\n",
       "      <td>0</td>\n",
       "      <td>252.0</td>\n",
       "      <td>0</td>\n",
       "      <td>0</td>\n",
       "      <td>723.33</td>\n",
       "      <td>0</td>\n",
       "    </tr>\n",
       "    <tr>\n",
       "      <th>8</th>\n",
       "      <td>25613243</td>\n",
       "      <td>F</td>\n",
       "      <td>45</td>\n",
       "      <td>Other-occupations</td>\n",
       "      <td>Other-employments</td>\n",
       "      <td>High Education</td>\n",
       "      <td>US</td>\n",
       "      <td>9</td>\n",
       "      <td>Other</td>\n",
       "      <td>Not-in-family</td>\n",
       "      <td>White</td>\n",
       "      <td>14.0</td>\n",
       "      <td>1</td>\n",
       "      <td>0</td>\n",
       "      <td>56.0</td>\n",
       "      <td>1</td>\n",
       "      <td>0</td>\n",
       "      <td>199.38</td>\n",
       "      <td>0</td>\n",
       "    </tr>\n",
       "    <tr>\n",
       "      <th>9</th>\n",
       "      <td>25794505</td>\n",
       "      <td>M</td>\n",
       "      <td>32</td>\n",
       "      <td>Craft-repair</td>\n",
       "      <td>Other-employments</td>\n",
       "      <td>Some-college</td>\n",
       "      <td>US</td>\n",
       "      <td>10</td>\n",
       "      <td>Other</td>\n",
       "      <td>Not-in-family</td>\n",
       "      <td>White</td>\n",
       "      <td>NaN</td>\n",
       "      <td>0</td>\n",
       "      <td>0</td>\n",
       "      <td>NaN</td>\n",
       "      <td>0</td>\n",
       "      <td>0</td>\n",
       "      <td>NaN</td>\n",
       "      <td>1</td>\n",
       "    </tr>\n",
       "  </tbody>\n",
       "</table>\n",
       "</div>"
      ],
      "text/plain": [
       "   customer_id sex  age         occupation    employment_type       education country_code  completed_years_of_education      marital_status relationship_in_household   race  times_bought  N1_times_bought  N2_times_bought  quantity_bought  N1_quantity_bought  N2_quantity_bought  money_spent  type_of_client\n",
       "0      1504001   M   44  Other-occupations  Other-employments  High Education           US                            13  Married-civ-spouse                   Husband  White          53.0                0                0            127.0                   0                   1       274.66               1\n",
       "1      3928504   M   21  Other-occupations  Other-employments    Some-college           US                            10       Never-married             Not-in-family  White          31.0                0                0            113.0                   0                   1       388.40               1\n",
       "2      5997529   F   19  Other-occupations  Other-employments   Low Education           US                             7       Never-married            Other-relative  White           7.0                1                0             19.0                   1                   0       110.18               0\n",
       "3     14044670   F   32  Other-occupations  Other-employments  High Education           US                            13       Never-married             Not-in-family  White         166.0                0                0            598.0                   0                   0      1408.16               1\n",
       "4     16835953   M   54  Other-occupations  Other-employments  High Education           US                             9  Married-civ-spouse                   Husband  White          96.0                0                0            403.0                   0                   0       700.75               1\n",
       "5     19383612   M   60     Prof-specialty  Other-employments  High Education           US                            13  Married-civ-spouse                   Husband  White           3.0                1                0              3.0                   1                   0       -34.05               1\n",
       "6     21318515   M   36  Other-occupations  Other-employments    Some-college       Non_US                            10  Married-civ-spouse                   Husband  Other         287.0                0                0            779.0                   0                   0      1857.97               1\n",
       "7     23055398   F   50  Other-occupations        Federal-gov  High Education           US                            14       Never-married             Not-in-family  White          85.0                0                0            252.0                   0                   0       723.33               0\n",
       "8     25613243   F   45  Other-occupations  Other-employments  High Education           US                             9               Other             Not-in-family  White          14.0                1                0             56.0                   1                   0       199.38               0\n",
       "9     25794505   M   32       Craft-repair  Other-employments    Some-college           US                            10               Other             Not-in-family  White           NaN                0                0              NaN                   0                   0          NaN               1"
      ]
     },
     "execution_count": 1,
     "metadata": {},
     "output_type": "execute_result"
    }
   ],
   "source": [
    "## importing all the necessary libraries\n",
    "import numpy as np\n",
    "import random\n",
    "import pandas as pd\n",
    "import matplotlib.pyplot as plt\n",
    "import seaborn as sns\n",
    "from sklearn import metrics\n",
    "import statsmodels.formula.api as smf\n",
    "import pandas as pd # data science essentials\n",
    "import matplotlib.pyplot as plt # essential graphical output\n",
    "import seaborn as sns # enhanced graphical output\n",
    "import numpy as np # For numpy arrays\n",
    "import statsmodels.formula.api as smf # linear regression (statsmodels)\n",
    "from sklearn.linear_model import LinearRegression # linear regression\n",
    "from sklearn.model_selection import train_test_split # train/test split\n",
    "from sklearn.naive_bayes import GaussianNB #navy bayes model\n",
    "from sklearn.linear_model import LogisticRegression #logistic regression\n",
    "from sklearn.neighbors import KNeighborsClassifier # KNN for Regression\n",
    "from sklearn.preprocessing import StandardScaler # standard scaler\n",
    "from sklearn.tree import DecisionTreeClassifier # decision tree classifier\n",
    "from sklearn.metrics import classification_report #classification report essentials\n",
    "from sklearn.metrics import confusion_matrix # confusion matrix essentials\n",
    "from sklearn.metrics import accuracy_score # accuracy score essentials\n",
    "# packages for unsupervised learning\n",
    "from sklearn.preprocessing   import StandardScaler      # standard scaler\n",
    "from sklearn.decomposition   import PCA                 # pca\n",
    "from scipy.cluster.hierarchy import dendrogram, linkage # dendrograms\n",
    "from sklearn.cluster         import KMeans              # k-means clustering\n",
    "\n",
    "# setting pandas print options\n",
    "pd.set_option('display.max_rows', 500)\n",
    "pd.set_option('display.max_columns', 500)\n",
    "pd.set_option('display.width', 1000)\n",
    "\n",
    "## saving the filepath to file\n",
    "file = './Model_Joined_part2_ML_SQL.csv'\n",
    "#pca_3 = PCA(n_components = 3,\n",
    "            #random_state = 219)\n",
    "\n",
    "\n",
    "# FITTING and TRANSFORMING the purchases_scaled\n",
    "#customer_pca_3 = pca_3.fit_transform(df_scaled)\n",
    "\n",
    "\n",
    "# calling the scree_plot function\n",
    "#scree_plot(pca_object = pca_3,\n",
    "           #export     = False)\n",
    "## loading and printing the first 5 rows of the model to check them\n",
    "model_df = pd.read_csv(filepath_or_buffer = file)\n",
    "print(model_df.shape)\n",
    "model_df.head(n=10)"
   ]
  },
  {
   "cell_type": "code",
   "execution_count": 2,
   "metadata": {},
   "outputs": [
    {
     "name": "stdout",
     "output_type": "stream",
     "text": [
      "customer_id                      0\n",
      "sex                              0\n",
      "age                              0\n",
      "occupation                       0\n",
      "employment_type                  0\n",
      "education                        0\n",
      "country_code                     0\n",
      "completed_years_of_education     0\n",
      "marital_status                   0\n",
      "relationship_in_household        0\n",
      "race                             0\n",
      "times_bought                    51\n",
      "N1_times_bought                  0\n",
      "N2_times_bought                  0\n",
      "quantity_bought                 51\n",
      "N1_quantity_bought               0\n",
      "N2_quantity_bought               0\n",
      "money_spent                     51\n",
      "type_of_client                   0\n",
      "dtype: int64\n"
     ]
    }
   ],
   "source": [
    "# Print number of missing values in banking\n",
    "print(model_df.isna().sum(axis=0))\n",
    "\n",
    "plt.show()"
   ]
  },
  {
   "cell_type": "code",
   "execution_count": 3,
   "metadata": {},
   "outputs": [
    {
     "name": "stdout",
     "output_type": "stream",
     "text": [
      "customer_id                     0\n",
      "sex                             0\n",
      "age                             0\n",
      "occupation                      0\n",
      "employment_type                 0\n",
      "education                       0\n",
      "country_code                    0\n",
      "completed_years_of_education    0\n",
      "marital_status                  0\n",
      "relationship_in_household       0\n",
      "race                            0\n",
      "times_bought                    0\n",
      "N1_times_bought                 0\n",
      "N2_times_bought                 0\n",
      "quantity_bought                 0\n",
      "N1_quantity_bought              0\n",
      "N2_quantity_bought              0\n",
      "money_spent                     0\n",
      "type_of_client                  0\n",
      "dtype: int64\n"
     ]
    }
   ],
   "source": [
    "## creating a variable to replace the empty values with the median\n",
    "empty_col = {'times_bought':model_df.times_bought.median() ,'quantity_bought':model_df.quantity_bought.median(), \n",
    "             'money_spent':model_df.money_spent.median()}\n",
    "\n",
    "## using a for loop to loop over the data frame to replace empty values\n",
    "for keys, values in empty_col.items(): \n",
    "    model_df[keys] = model_df[keys].fillna(value = values)\n",
    "\n",
    "## using print to see if there are any NA's\n",
    "print(model_df.isna().sum(axis=0))"
   ]
  },
  {
   "cell_type": "code",
   "execution_count": 4,
   "metadata": {},
   "outputs": [
    {
     "name": "stdout",
     "output_type": "stream",
     "text": [
      "<class 'pandas.core.frame.DataFrame'>\n",
      "RangeIndex: 1021 entries, 0 to 1020\n",
      "Data columns (total 19 columns):\n",
      " #   Column                        Non-Null Count  Dtype  \n",
      "---  ------                        --------------  -----  \n",
      " 0   customer_id                   1021 non-null   int64  \n",
      " 1   sex                           1021 non-null   object \n",
      " 2   age                           1021 non-null   int64  \n",
      " 3   occupation                    1021 non-null   object \n",
      " 4   employment_type               1021 non-null   object \n",
      " 5   education                     1021 non-null   object \n",
      " 6   country_code                  1021 non-null   object \n",
      " 7   completed_years_of_education  1021 non-null   int64  \n",
      " 8   marital_status                1021 non-null   object \n",
      " 9   relationship_in_household     1021 non-null   object \n",
      " 10  race                          1021 non-null   object \n",
      " 11  times_bought                  1021 non-null   float64\n",
      " 12  N1_times_bought               1021 non-null   int64  \n",
      " 13  N2_times_bought               1021 non-null   int64  \n",
      " 14  quantity_bought               1021 non-null   float64\n",
      " 15  N1_quantity_bought            1021 non-null   int64  \n",
      " 16  N2_quantity_bought            1021 non-null   int64  \n",
      " 17  money_spent                   1021 non-null   float64\n",
      " 18  type_of_client                1021 non-null   int64  \n",
      "dtypes: float64(3), int64(8), object(8)\n",
      "memory usage: 151.7+ KB\n"
     ]
    }
   ],
   "source": [
    "# checking the info of the dataset\n",
    "model_df.info(verbose=True)"
   ]
  },
  {
   "cell_type": "code",
   "execution_count": 5,
   "metadata": {},
   "outputs": [
    {
     "data": {
      "text/plain": [
       "(1021, 35)"
      ]
     },
     "execution_count": 5,
     "metadata": {},
     "output_type": "execute_result"
    }
   ],
   "source": [
    "################ Model ################\n",
    "\n",
    "# selecting the categorical variables sex, occupation, country_code, marital_status and race\n",
    "features = ['sex','occupation','education','employment_type','country_code','marital_status','race','relationship_in_household']\n",
    "model_df_dm = pd.DataFrame()\n",
    "## creating new dataframe using only features of interest \n",
    "model_df_dm = model_df.loc[:,features]\n",
    "model_df_dm['age'] = model_df['age']\n",
    "model_df_dm['completed_years_of_education'] = model_df['completed_years_of_education']\n",
    "model_df_dm['times_bought'] = model_df['times_bought']\n",
    "model_df_dm['N1_times_bought'] = model_df['N1_times_bought']\n",
    "\n",
    "model_df_dm['quantity_bought'] = model_df['quantity_bought']\n",
    "model_df_dm['N1_quantity_bought'] = model_df['N1_quantity_bought']\n",
    "model_df_dm['N2_quantity_bought'] = model_df['N2_quantity_bought']\n",
    "\n",
    "model_df_dm['money_spent'] = model_df['money_spent']\n",
    "model_df_dm['type_of_client'] = model_df['type_of_client']\n",
    "\n",
    "## creating dummie variables for sex, occupation, country_code, marital_status and race\n",
    "model_df_dm = pd.get_dummies(model_df_dm, columns = features)\n",
    "model_df_dm.shape"
   ]
  },
  {
   "cell_type": "code",
   "execution_count": 6,
   "metadata": {},
   "outputs": [],
   "source": [
    "########################################\n",
    "# scree_plot\n",
    "########################################\n",
    "def scree_plot(pca_object, export = False):\n",
    "    \"\"\"\n",
    "    Visualizes a scree plot from a pca object.\n",
    "    \n",
    "    PARAMETERS\n",
    "    ----------\n",
    "    pca_object | A fitted pca object\n",
    "    export     | Set to True if you would like to save the scree plot to the\n",
    "               | current working directory (default: False)\n",
    "    \"\"\"\n",
    "    # building a scree plot\n",
    "\n",
    "    # setting plot size\n",
    "    fig, ax = plt.subplots(figsize=(10, 8))\n",
    "    features = range(pca_object.n_components_)\n",
    "\n",
    "\n",
    "    # developing a scree plot\n",
    "    plt.plot(features,\n",
    "             pca_object.explained_variance_ratio_,\n",
    "             linewidth = 2,\n",
    "             marker = 'o',\n",
    "             markersize = 10,\n",
    "             markeredgecolor = 'black',\n",
    "             markerfacecolor = 'grey')\n",
    "\n",
    "\n",
    "    # setting more plot options\n",
    "    plt.title('Scree Plot')\n",
    "    plt.xlabel('PCA feature')\n",
    "    plt.ylabel('Explained Variance')\n",
    "    plt.xticks(features)\n",
    "\n",
    "    if export == True:\n",
    "    \n",
    "        # exporting the plot\n",
    "        plt.savefig('./__analysis_images/top_customers_correlation_scree_plot.png')\n",
    "        \n",
    "    # displaying the plot\n",
    "    plt.show()\n",
    "\n",
    "\n",
    "########################################\n",
    "# unsupervised_scaler\n",
    "########################################\n",
    "def scaler(df):\n",
    "    \"\"\"\n",
    "    Standardizes a dataset (mean = 0, variance = 1). Returns a new DataFrame.\n",
    "    Requires sklearn.preprocessing.StandardScaler()\n",
    "    \n",
    "    PARAMETERS\n",
    "    ----------\n",
    "    df     | DataFrame to be used for scaling\n",
    "    \"\"\"\n",
    "\n",
    "    # INSTANTIATING a StandardScaler() object\n",
    "    scaler = StandardScaler(copy = True)\n",
    "\n",
    "\n",
    "    # FITTING the scaler with the data\n",
    "    scaler.fit(df)\n",
    "\n",
    "\n",
    "    # TRANSFORMING our data after fit\n",
    "    x_scaled = scaler.transform(df)\n",
    "\n",
    "    \n",
    "    # converting scaled data into a DataFrame\n",
    "    new_df = pd.DataFrame(x_scaled)\n",
    "\n",
    "\n",
    "    # reattaching column names\n",
    "    new_df.columns = df.columns\n",
    "    \n",
    "    return new_df"
   ]
  },
  {
   "cell_type": "code",
   "execution_count": 7,
   "metadata": {},
   "outputs": [],
   "source": [
    "model_df_2 =  pd.DataFrame()\n",
    "columns_2 = ['age','sex_F',\n",
    "'race_White','employment_type_Self-emp-not-inc',\n",
    "       'marital_status_Married-civ-spouse',\n",
    "       'relationship_in_household_Husband',\n",
    "       'relationship_in_household_Unmarried'\n",
    "       ]\n",
    "model_df_2 = model_df_dm.loc[:,columns_2]\n",
    "\n"
   ]
  },
  {
   "cell_type": "code",
   "execution_count": 8,
   "metadata": {},
   "outputs": [
    {
     "name": "stdout",
     "output_type": "stream",
     "text": [
      "age                                    1.0\n",
      "sex_F                                  1.0\n",
      "race_White                             1.0\n",
      "employment_type_Self-emp-not-inc       1.0\n",
      "marital_status_Married-civ-spouse      1.0\n",
      "relationship_in_household_Husband      1.0\n",
      "relationship_in_household_Unmarried    1.0\n",
      "dtype: float64\n"
     ]
    }
   ],
   "source": [
    "# scaling (normalizing) variables before correlation analysis\n",
    "df_scaled = scaler(df = model_df_2)\n",
    "\n",
    "# checking pre- and post-scaling variance\n",
    "print(np.var(df_scaled))"
   ]
  },
  {
   "cell_type": "markdown",
   "metadata": {},
   "source": [
    "### Plot the Correlation matrix"
   ]
  },
  {
   "cell_type": "code",
   "execution_count": 9,
   "metadata": {},
   "outputs": [
    {
     "data": {
      "image/png": "[encoded data removed]",
      "text/plain": [
       "<Figure size 576x576 with 2 Axes>"
      ]
     },
     "metadata": {
      "needs_background": "light"
     },
     "output_type": "display_data"
    }
   ],
   "source": [
    "# setting plot size\n",
    "fig, ax = plt.subplots(figsize = (8, 8))\n",
    "\n",
    "\n",
    "# developing a correlation matrix object\n",
    "df_corr = df_scaled.corr(method = 'pearson').round(decimals = 2)\n",
    "\n",
    "\n",
    "# creating a correlation heatmap\n",
    "sns.heatmap(data   = df_corr,\n",
    "            cmap   = 'coolwarm',\n",
    "            square = True,\n",
    "            annot  = True)\n",
    "\n",
    "\n",
    "# rendering the heatmap\n",
    "plt.show()"
   ]
  },
  {
   "cell_type": "markdown",
   "metadata": {},
   "source": [
    "### Initialize PCA and K-Means Analysis"
   ]
  },
  {
   "cell_type": "code",
   "execution_count": 10,
   "metadata": {},
   "outputs": [],
   "source": [
    "# INSTANTIATING a PCA object with no limit to principal components\n",
    "pca = PCA(n_components = None,\n",
    "          random_state = 219)\n",
    "\n",
    "\n",
    "# FITTING and TRANSFORMING the scaled data\n",
    "customer_pca = pca.fit_transform(df_scaled)"
   ]
  },
  {
   "cell_type": "code",
   "execution_count": 11,
   "metadata": {},
   "outputs": [
    {
     "data": {
      "image/png": "[encoded data removed]",
      "text/plain": [
       "<Figure size 720x576 with 1 Axes>"
      ]
     },
     "metadata": {
      "needs_background": "light"
     },
     "output_type": "display_data"
    }
   ],
   "source": [
    "# calling the scree_plot function\n",
    "scree_plot(pca_object = pca)"
   ]
  },
  {
   "cell_type": "code",
   "execution_count": 12,
   "metadata": {},
   "outputs": [
    {
     "name": "stdout",
     "output_type": "stream",
     "text": [
      "                                        0     1     2     3     4     5     6\n",
      "age                                 -0.25  0.63  0.01 -0.47 -0.27  0.50  0.00\n",
      "sex_F                                0.42  0.29  0.06 -0.27 -0.45 -0.66 -0.18\n",
      "race_White                          -0.15 -0.19  0.82 -0.43  0.27 -0.12  0.02\n",
      "employment_type_Self-emp-not-inc    -0.13  0.45  0.50  0.72 -0.13 -0.04 -0.02\n",
      "marital_status_Married-civ-spouse   -0.55  0.11 -0.18 -0.05 -0.01 -0.47  0.66\n",
      "relationship_in_household_Husband   -0.57  0.06 -0.18 -0.02  0.18 -0.27 -0.73\n",
      "relationship_in_household_Unmarried  0.31  0.52 -0.12 -0.05  0.78 -0.12  0.07\n"
     ]
    }
   ],
   "source": [
    "# transposing pca components\n",
    "factor_loadings_df = pd.DataFrame(np.transpose(pca.components_.round(decimals = 2)))\n",
    "\n",
    "\n",
    "# naming rows as original features\n",
    "factor_loadings_df = factor_loadings_df.set_index(df_scaled.columns)\n",
    "\n",
    "\n",
    "# checking the result\n",
    "print(factor_loadings_df)\n"
   ]
  },
  {
   "cell_type": "code",
   "execution_count": 13,
   "metadata": {},
   "outputs": [
    {
     "data": {
      "image/png": "[encoded data removed]",
      "text/plain": [
       "<Figure size 720x576 with 1 Axes>"
      ]
     },
     "metadata": {
      "needs_background": "light"
     },
     "output_type": "display_data"
    }
   ],
   "source": [
    "# INSTANTIATING a new model using the first three principal components\n",
    "pca_3 = PCA(n_components = 3,\n",
    "            random_state = 219)\n",
    "\n",
    "\n",
    "# FITTING and TRANSFORMING the purchases_scaled\n",
    "customer_pca_3 = pca_3.fit_transform(df_scaled)\n",
    "\n",
    "\n",
    "# calling the scree_plot function\n",
    "scree_plot(pca_object = pca_3,\n",
    "           export     = False)"
   ]
  },
  {
   "cell_type": "code",
   "execution_count": 14,
   "metadata": {
    "scrolled": false
   },
   "outputs": [
    {
     "name": "stdout",
     "output_type": "stream",
     "text": [
      "\n",
      "3 Components Factor Loadings\n",
      "------------------------------\n",
      "                                        0     1     2\n",
      "age                                 -0.25  0.63  0.01\n",
      "sex_F                                0.42  0.29  0.06\n",
      "race_White                          -0.15 -0.19  0.82\n",
      "employment_type_Self-emp-not-inc    -0.13  0.45  0.50\n",
      "marital_status_Married-civ-spouse   -0.55  0.11 -0.18\n",
      "relationship_in_household_Husband   -0.57  0.06 -0.18\n",
      "relationship_in_household_Unmarried  0.31  0.52 -0.12\n",
      "\n"
     ]
    }
   ],
   "source": [
    "##################\n",
    "### 3 PC Model ###\n",
    "##################\n",
    "# transposing pca components (pc = 3)\n",
    "factor_loadings_3 = pd.DataFrame(np.transpose(pca_3.components_))\n",
    "\n",
    "\n",
    "# naming rows as original features\n",
    "factor_loadings_3 = factor_loadings_3.set_index(df_scaled.columns)\n",
    "\n",
    "\n",
    "# checking the results\n",
    "print(f\"\"\"\n",
    "3 Components Factor Loadings\n",
    "------------------------------\n",
    "{factor_loadings_3.round(2)}\n",
    "\"\"\")"
   ]
  },
  {
   "cell_type": "code",
   "execution_count": 22,
   "metadata": {},
   "outputs": [
    {
     "data": {
      "image/png": "[encoded data removed]",
      "text/plain": [
       "<Figure size 720x576 with 1 Axes>"
      ]
     },
     "metadata": {
      "needs_background": "light"
     },
     "output_type": "display_data"
    }
   ],
   "source": [
    "# INSTANTIATING a new model using the first three principal components\n",
    "pca_4 = PCA(n_components = 4,\n",
    "            random_state = 219)\n",
    "\n",
    "\n",
    "# FITTING and TRANSFORMING the purchases_scaled\n",
    "customer_pca_4 = pca_4.fit_transform(df_scaled)\n",
    "\n",
    "\n",
    "# calling the scree_plot function\n",
    "scree_plot(pca_object = pca_4,\n",
    "           export     = False)"
   ]
  },
  {
   "cell_type": "code",
   "execution_count": 23,
   "metadata": {},
   "outputs": [
    {
     "name": "stdout",
     "output_type": "stream",
     "text": [
      "\n",
      "4 Components Factor Loadings\n",
      "------------------------------\n",
      "                                        0     1     2     3\n",
      "age                                 -0.25  0.63  0.01 -0.47\n",
      "sex_F                                0.42  0.29  0.06 -0.27\n",
      "race_White                          -0.15 -0.19  0.82 -0.43\n",
      "employment_type_Self-emp-not-inc    -0.13  0.45  0.50  0.72\n",
      "marital_status_Married-civ-spouse   -0.55  0.11 -0.18 -0.05\n",
      "relationship_in_household_Husband   -0.57  0.06 -0.18 -0.02\n",
      "relationship_in_household_Unmarried  0.31  0.52 -0.12 -0.05\n",
      "\n"
     ]
    }
   ],
   "source": [
    "##################\n",
    "### 4 PC Model ###\n",
    "##################\n",
    "# transposing pca components (pc = 4)\n",
    "factor_loadings_4 = pd.DataFrame(np.transpose(pca_4.components_))\n",
    "\n",
    "\n",
    "# naming rows as original features\n",
    "factor_loadings_4 = factor_loadings_4.set_index(df_scaled.columns)\n",
    "\n",
    "\n",
    "# checking the results\n",
    "print(f\"\"\"\n",
    "4 Components Factor Loadings\n",
    "------------------------------\n",
    "{factor_loadings_4.round(2)}\n",
    "\"\"\")"
   ]
  },
  {
   "cell_type": "code",
   "execution_count": 24,
   "metadata": {},
   "outputs": [
    {
     "data": {
      "text/html": [
       "<div>\n",
       "<style scoped>\n",
       "    .dataframe tbody tr th:only-of-type {\n",
       "        vertical-align: middle;\n",
       "    }\n",
       "\n",
       "    .dataframe tbody tr th {\n",
       "        vertical-align: top;\n",
       "    }\n",
       "\n",
       "    .dataframe thead th {\n",
       "        text-align: right;\n",
       "    }\n",
       "</style>\n",
       "<table border=\"1\" class=\"dataframe\">\n",
       "  <thead>\n",
       "    <tr style=\"text-align: right;\">\n",
       "      <th></th>\n",
       "      <th>Single_Women</th>\n",
       "      <th>Old_Unmarried</th>\n",
       "      <th>White_Self_Emp</th>\n",
       "    </tr>\n",
       "  </thead>\n",
       "  <tbody>\n",
       "    <tr>\n",
       "      <th>age</th>\n",
       "      <td>-0.25</td>\n",
       "      <td>0.63</td>\n",
       "      <td>0.01</td>\n",
       "    </tr>\n",
       "    <tr>\n",
       "      <th>sex_F</th>\n",
       "      <td>0.42</td>\n",
       "      <td>0.29</td>\n",
       "      <td>0.06</td>\n",
       "    </tr>\n",
       "    <tr>\n",
       "      <th>race_White</th>\n",
       "      <td>-0.15</td>\n",
       "      <td>-0.19</td>\n",
       "      <td>0.82</td>\n",
       "    </tr>\n",
       "    <tr>\n",
       "      <th>employment_type_Self-emp-not-inc</th>\n",
       "      <td>-0.13</td>\n",
       "      <td>0.45</td>\n",
       "      <td>0.50</td>\n",
       "    </tr>\n",
       "    <tr>\n",
       "      <th>marital_status_Married-civ-spouse</th>\n",
       "      <td>-0.55</td>\n",
       "      <td>0.11</td>\n",
       "      <td>-0.18</td>\n",
       "    </tr>\n",
       "    <tr>\n",
       "      <th>relationship_in_household_Husband</th>\n",
       "      <td>-0.57</td>\n",
       "      <td>0.06</td>\n",
       "      <td>-0.18</td>\n",
       "    </tr>\n",
       "    <tr>\n",
       "      <th>relationship_in_household_Unmarried</th>\n",
       "      <td>0.31</td>\n",
       "      <td>0.52</td>\n",
       "      <td>-0.12</td>\n",
       "    </tr>\n",
       "  </tbody>\n",
       "</table>\n",
       "</div>"
      ],
      "text/plain": [
       "                                     Single_Women  Old_Unmarried  White_Self_Emp\n",
       "age                                         -0.25           0.63            0.01\n",
       "sex_F                                        0.42           0.29            0.06\n",
       "race_White                                  -0.15          -0.19            0.82\n",
       "employment_type_Self-emp-not-inc            -0.13           0.45            0.50\n",
       "marital_status_Married-civ-spouse           -0.55           0.11           -0.18\n",
       "relationship_in_household_Husband           -0.57           0.06           -0.18\n",
       "relationship_in_household_Unmarried          0.31           0.52           -0.12"
      ]
     },
     "execution_count": 24,
     "metadata": {},
     "output_type": "execute_result"
    }
   ],
   "source": [
    "# naming each principal component\n",
    "factor_loadings_3.columns = ['Single_Women',    # Husbands\n",
    "                             'Old_Unmarried',  # Old People Not Married\n",
    "                             'White_Self_Emp']  # White People Self Employed\n",
    "\n",
    "\n",
    "# checking the result\n",
    "factor_loadings_3.round(decimals = 2)"
   ]
  },
  {
   "cell_type": "code",
   "execution_count": 25,
   "metadata": {},
   "outputs": [
    {
     "data": {
      "text/html": [
       "<div>\n",
       "<style scoped>\n",
       "    .dataframe tbody tr th:only-of-type {\n",
       "        vertical-align: middle;\n",
       "    }\n",
       "\n",
       "    .dataframe tbody tr th {\n",
       "        vertical-align: top;\n",
       "    }\n",
       "\n",
       "    .dataframe thead th {\n",
       "        text-align: right;\n",
       "    }\n",
       "</style>\n",
       "<table border=\"1\" class=\"dataframe\">\n",
       "  <thead>\n",
       "    <tr style=\"text-align: right;\">\n",
       "      <th></th>\n",
       "      <th>Single_Women</th>\n",
       "      <th>Old_Unmarried</th>\n",
       "      <th>White_Self_Emp</th>\n",
       "      <th>Non_white_self_Emp</th>\n",
       "    </tr>\n",
       "  </thead>\n",
       "  <tbody>\n",
       "    <tr>\n",
       "      <th>age</th>\n",
       "      <td>-0.25</td>\n",
       "      <td>0.63</td>\n",
       "      <td>0.01</td>\n",
       "      <td>-0.47</td>\n",
       "    </tr>\n",
       "    <tr>\n",
       "      <th>sex_F</th>\n",
       "      <td>0.42</td>\n",
       "      <td>0.29</td>\n",
       "      <td>0.06</td>\n",
       "      <td>-0.27</td>\n",
       "    </tr>\n",
       "    <tr>\n",
       "      <th>race_White</th>\n",
       "      <td>-0.15</td>\n",
       "      <td>-0.19</td>\n",
       "      <td>0.82</td>\n",
       "      <td>-0.43</td>\n",
       "    </tr>\n",
       "    <tr>\n",
       "      <th>employment_type_Self-emp-not-inc</th>\n",
       "      <td>-0.13</td>\n",
       "      <td>0.45</td>\n",
       "      <td>0.50</td>\n",
       "      <td>0.72</td>\n",
       "    </tr>\n",
       "    <tr>\n",
       "      <th>marital_status_Married-civ-spouse</th>\n",
       "      <td>-0.55</td>\n",
       "      <td>0.11</td>\n",
       "      <td>-0.18</td>\n",
       "      <td>-0.05</td>\n",
       "    </tr>\n",
       "    <tr>\n",
       "      <th>relationship_in_household_Husband</th>\n",
       "      <td>-0.57</td>\n",
       "      <td>0.06</td>\n",
       "      <td>-0.18</td>\n",
       "      <td>-0.02</td>\n",
       "    </tr>\n",
       "    <tr>\n",
       "      <th>relationship_in_household_Unmarried</th>\n",
       "      <td>0.31</td>\n",
       "      <td>0.52</td>\n",
       "      <td>-0.12</td>\n",
       "      <td>-0.05</td>\n",
       "    </tr>\n",
       "  </tbody>\n",
       "</table>\n",
       "</div>"
      ],
      "text/plain": [
       "                                     Single_Women  Old_Unmarried  White_Self_Emp  Non_white_self_Emp\n",
       "age                                         -0.25           0.63            0.01               -0.47\n",
       "sex_F                                        0.42           0.29            0.06               -0.27\n",
       "race_White                                  -0.15          -0.19            0.82               -0.43\n",
       "employment_type_Self-emp-not-inc            -0.13           0.45            0.50                0.72\n",
       "marital_status_Married-civ-spouse           -0.55           0.11           -0.18               -0.05\n",
       "relationship_in_household_Husband           -0.57           0.06           -0.18               -0.02\n",
       "relationship_in_household_Unmarried          0.31           0.52           -0.12               -0.05"
      ]
     },
     "execution_count": 25,
     "metadata": {},
     "output_type": "execute_result"
    }
   ],
   "source": [
    "# naming each principal component\n",
    "factor_loadings_4.columns = ['Single_Women',    # Husbands\n",
    "                             'Old_Unmarried',  # Old People Not Married\n",
    "                             'White_Self_Emp',\n",
    "                             'Non_white_self_Emp']  # White People Self Employed\n",
    "\n",
    "\n",
    "# checking the result\n",
    "factor_loadings_4.round(decimals = 2)"
   ]
  },
  {
   "cell_type": "code",
   "execution_count": 26,
   "metadata": {},
   "outputs": [
    {
     "data": {
      "text/html": [
       "<div>\n",
       "<style scoped>\n",
       "    .dataframe tbody tr th:only-of-type {\n",
       "        vertical-align: middle;\n",
       "    }\n",
       "\n",
       "    .dataframe tbody tr th {\n",
       "        vertical-align: top;\n",
       "    }\n",
       "\n",
       "    .dataframe thead th {\n",
       "        text-align: right;\n",
       "    }\n",
       "</style>\n",
       "<table border=\"1\" class=\"dataframe\">\n",
       "  <thead>\n",
       "    <tr style=\"text-align: right;\">\n",
       "      <th></th>\n",
       "      <th>Single_Women</th>\n",
       "      <th>Old_Unmarried</th>\n",
       "      <th>White_Self_Emp</th>\n",
       "    </tr>\n",
       "  </thead>\n",
       "  <tbody>\n",
       "    <tr>\n",
       "      <th>0</th>\n",
       "      <td>-1.787655</td>\n",
       "      <td>-0.150487</td>\n",
       "      <td>-0.181772</td>\n",
       "    </tr>\n",
       "    <tr>\n",
       "      <th>1</th>\n",
       "      <td>0.899882</td>\n",
       "      <td>-1.583887</td>\n",
       "      <td>0.511961</td>\n",
       "    </tr>\n",
       "    <tr>\n",
       "      <th>2</th>\n",
       "      <td>1.843097</td>\n",
       "      <td>-1.054697</td>\n",
       "      <td>0.636926</td>\n",
       "    </tr>\n",
       "    <tr>\n",
       "      <th>3</th>\n",
       "      <td>1.603525</td>\n",
       "      <td>-0.442064</td>\n",
       "      <td>0.649744</td>\n",
       "    </tr>\n",
       "    <tr>\n",
       "      <th>4</th>\n",
       "      <td>-1.971941</td>\n",
       "      <td>0.320769</td>\n",
       "      <td>-0.171912</td>\n",
       "    </tr>\n",
       "  </tbody>\n",
       "</table>\n",
       "</div>"
      ],
      "text/plain": [
       "   Single_Women  Old_Unmarried  White_Self_Emp\n",
       "0     -1.787655      -0.150487       -0.181772\n",
       "1      0.899882      -1.583887        0.511961\n",
       "2      1.843097      -1.054697        0.636926\n",
       "3      1.603525      -0.442064        0.649744\n",
       "4     -1.971941       0.320769       -0.171912"
      ]
     },
     "execution_count": 26,
     "metadata": {},
     "output_type": "execute_result"
    }
   ],
   "source": [
    "# converting customer-level data into DataFrame\n",
    "customer_pca_3 = pd.DataFrame(customer_pca_3)\n",
    "\n",
    "\n",
    "# renaming customer-level data\n",
    "customer_pca_3.columns = factor_loadings_3.columns\n",
    "\n",
    "\n",
    "# checking factor loadings per customer\n",
    "customer_pca_3.head(n = 5)"
   ]
  },
  {
   "cell_type": "code",
   "execution_count": 27,
   "metadata": {},
   "outputs": [
    {
     "name": "stdout",
     "output_type": "stream",
     "text": [
      "Single_Women      2.640946\n",
      "Old_Unmarried     1.170489\n",
      "White_Self_Emp    1.014180\n",
      "dtype: float64 \n",
      "\n",
      "\n",
      "Single_Women      1.0\n",
      "Old_Unmarried     1.0\n",
      "White_Self_Emp    1.0\n",
      "dtype: float64\n"
     ]
    }
   ],
   "source": [
    "# applying the unsupervised_scaler function\n",
    "pca_scaled = scaler(df = customer_pca_3)\n",
    "\n",
    "\n",
    "# checking pre- and post-scaling variance\n",
    "print(np.var(customer_pca_3), '\\n\\n')\n",
    "print(np.var(pca_scaled))"
   ]
  },
  {
   "cell_type": "code",
   "execution_count": 28,
   "metadata": {},
   "outputs": [
    {
     "data": {
      "image/png": "[encoded data removed]",
      "text/plain": [
       "<Figure size 2160x1440 with 1 Axes>"
      ]
     },
     "metadata": {
      "needs_background": "light"
     },
     "output_type": "display_data"
    }
   ],
   "source": [
    "# grouping data based on Ward distance\n",
    "standard_mergings_ward = linkage(y = pca_scaled,\n",
    "                                 method = 'ward',\n",
    "                                 optimal_ordering = True)\n",
    "\n",
    "\n",
    "# setting plot size\n",
    "fig, ax = plt.subplots(figsize=(30, 20))\n",
    "\n",
    "# developing a dendrogram\n",
    "dendrogram(Z = standard_mergings_ward,\n",
    "           leaf_rotation = 90,\n",
    "           leaf_font_size = 8)\n",
    "\n",
    "\n",
    "# rendering the plot\n",
    "plt.show()"
   ]
  },
  {
   "cell_type": "markdown",
   "metadata": {},
   "source": [
    "### Dendrogram Analysis\n",
    "\n",
    "+ There are 4 well distributed clusters from the colors shown in the graph. From these, the red cluster is the one with the smallest difference, which means that between the 4 clusters that we can clearly see from the color distinction, the red one is the one more similar among itself, followed by the green, purple, and orange, in that order.\n",
    "\n",
    "+ One of the disadvantage of dendrograms is that they do not specify how many clusters you should have or take. It usually gives a good representation of the colors, but it is not an exact thing. Normally you have enough independence when choosing the number of clusters and it will depend on the conclusions you want to extract and the questions you may want to solve.\n",
    "\n",
    "+ This is a special case, as we can see, the combination of clusters between orange and green, with the one coming from red and purple is pretty much at the same level, making it hard to have 3 clusters. This means that we should decide between 2 or 4. Since the 4 clusters are quite balanced in terms of sample size, having at least a 16% of the total each of them, that is why we thought of picking 4 clusters for this specific example.\n",
    "\n",
    "\n",
    "\n"
   ]
  },
  {
   "cell_type": "code",
   "execution_count": 29,
   "metadata": {},
   "outputs": [
    {
     "data": {
      "image/png": "[encoded data removed]",
      "text/plain": [
       "<Figure size 432x288 with 1 Axes>"
      ]
     },
     "metadata": {
      "needs_background": "light"
     },
     "output_type": "display_data"
    }
   ],
   "source": [
    "import warnings\n",
    "warnings.filterwarnings('ignore')\n",
    "ks = range(1, 10)\n",
    "inertias = []\n",
    "\n",
    "for k in ks:\n",
    "    # Create a KMeans instance with k clusters: model\n",
    "    model = KMeans(n_clusters = k)\n",
    "    \n",
    "    # Fit model to samples\n",
    "    model.fit(np.array(pca_scaled))\n",
    "    \n",
    "    # Append the inertia to the list of inertias\n",
    "    inertias.append(model.inertia_)\n",
    "    \n",
    "# Plot ks vs inertias\n",
    "plt.plot(ks, inertias, '-o')\n",
    "plt.xlabel('number of clusters, k')\n",
    "plt.ylabel('inertia')\n",
    "plt.xticks(ks)\n",
    "plt.show()\n"
   ]
  },
  {
   "cell_type": "code",
   "execution_count": 30,
   "metadata": {},
   "outputs": [],
   "source": [
    "# Create KMeans instance: kmeans\n",
    "n_clusters = 4\n",
    "kmeans = KMeans(n_clusters = n_clusters,random_state = 219)\n",
    "\n",
    "# Label original data using 3 clusters\n",
    "labels = kmeans.fit_predict(pca_scaled)\n"
   ]
  },
  {
   "cell_type": "code",
   "execution_count": 31,
   "metadata": {},
   "outputs": [
    {
     "data": {
      "text/plain": [
       "0    0.341822\n",
       "1    0.333007\n",
       "3    0.179236\n",
       "2    0.145935\n",
       "Name: model_category, dtype: float64"
      ]
     },
     "execution_count": 31,
     "metadata": {},
     "output_type": "execute_result"
    }
   ],
   "source": [
    "#Create dataframe using the original dataframe and new labeled column\n",
    "final = pd.concat([pca_scaled, pd.DataFrame(labels)],axis=1)\n",
    "final = final.rename(columns={0:\"model_category\"})\n",
    "\n",
    "# checking the first 5 rows\n",
    "final.model_category.value_counts(normalize=True)"
   ]
  },
  {
   "cell_type": "code",
   "execution_count": 32,
   "metadata": {},
   "outputs": [
    {
     "name": "stdout",
     "output_type": "stream",
     "text": [
      "0    349\n",
      "1    340\n",
      "3    183\n",
      "2    149\n",
      "Name: Cluster, dtype: int64\n"
     ]
    }
   ],
   "source": [
    "# INSTANTIATING a k-Means object with clusters\n",
    "customers_k_pca = KMeans(n_clusters   = 4,\n",
    "                         random_state = 219)\n",
    "\n",
    "\n",
    "# fitting the object to the data\n",
    "customers_k_pca.fit(pca_scaled)\n",
    "\n",
    "\n",
    "# converting the clusters to a DataFrame\n",
    "customers_kmeans_pca = pd.DataFrame({'Cluster': customers_k_pca.labels_})\n",
    "\n",
    "\n",
    "# checking the results\n",
    "print(customers_kmeans_pca.iloc[: , 0].value_counts())"
   ]
  },
  {
   "cell_type": "code",
   "execution_count": 33,
   "metadata": {},
   "outputs": [
    {
     "data": {
      "text/html": [
       "<div>\n",
       "<style scoped>\n",
       "    .dataframe tbody tr th:only-of-type {\n",
       "        vertical-align: middle;\n",
       "    }\n",
       "\n",
       "    .dataframe tbody tr th {\n",
       "        vertical-align: top;\n",
       "    }\n",
       "\n",
       "    .dataframe thead th {\n",
       "        text-align: right;\n",
       "    }\n",
       "</style>\n",
       "<table border=\"1\" class=\"dataframe\">\n",
       "  <thead>\n",
       "    <tr style=\"text-align: right;\">\n",
       "      <th></th>\n",
       "      <th>Single_Women</th>\n",
       "      <th>Old_Unmarried</th>\n",
       "      <th>White_Self_Emp</th>\n",
       "    </tr>\n",
       "  </thead>\n",
       "  <tbody>\n",
       "    <tr>\n",
       "      <th>0</th>\n",
       "      <td>0.65</td>\n",
       "      <td>-0.79</td>\n",
       "      <td>0.54</td>\n",
       "    </tr>\n",
       "    <tr>\n",
       "      <th>1</th>\n",
       "      <td>-1.10</td>\n",
       "      <td>-0.13</td>\n",
       "      <td>-0.18</td>\n",
       "    </tr>\n",
       "    <tr>\n",
       "      <th>2</th>\n",
       "      <td>0.60</td>\n",
       "      <td>0.43</td>\n",
       "      <td>-2.00</td>\n",
       "    </tr>\n",
       "    <tr>\n",
       "      <th>3</th>\n",
       "      <td>0.31</td>\n",
       "      <td>1.41</td>\n",
       "      <td>0.94</td>\n",
       "    </tr>\n",
       "  </tbody>\n",
       "</table>\n",
       "</div>"
      ],
      "text/plain": [
       "   Single_Women  Old_Unmarried  White_Self_Emp\n",
       "0          0.65          -0.79            0.54\n",
       "1         -1.10          -0.13           -0.18\n",
       "2          0.60           0.43           -2.00\n",
       "3          0.31           1.41            0.94"
      ]
     },
     "execution_count": 33,
     "metadata": {},
     "output_type": "execute_result"
    }
   ],
   "source": [
    "# storing cluster centers\n",
    "centroids_pca = customers_k_pca.cluster_centers_\n",
    "\n",
    "\n",
    "# converting cluster centers into a DataFrame\n",
    "centroids_pca_df = pd.DataFrame(centroids_pca)\n",
    "\n",
    "\n",
    "# renaming principal components\n",
    "centroids_pca_df.columns = ['Single_Women',    # Husbands\n",
    "                             'Old_Unmarried',  # Old People Not Married\n",
    "                             'White_Self_Emp']  # White People Self Employed\n",
    "\n",
    "# checking results (clusters = rows, pc = columns)\n",
    "centroids_pca_df.round(decimals = 2)"
   ]
  },
  {
   "cell_type": "code",
   "execution_count": 34,
   "metadata": {},
   "outputs": [],
   "source": [
    "final['type_of_client'] = model_df['type_of_client']\n",
    "final['money_spent'] = model_df['money_spent']\n",
    "final['quantity_bought'] = model_df['quantity_bought']\n",
    "\n",
    "# renaming channels\n",
    "final_names = {1 : 'Wholesalers',\n",
    "               0 : 'Personal Customers'}\n",
    "\n",
    "\n",
    "final['type_of_client'].replace(final_names, inplace = True)"
   ]
  },
  {
   "cell_type": "code",
   "execution_count": 35,
   "metadata": {},
   "outputs": [
    {
     "name": "stdout",
     "output_type": "stream",
     "text": [
      " -----------\n",
      "| Cluster 1 |\n",
      " -----------\n",
      "\n",
      "Proportion of Observations\n",
      "--------------------------\n",
      "0.34\n",
      "\n",
      "\n",
      "Centroids\n",
      "---------\n",
      "Single_Women      0.653847\n",
      "Old_Unmarried    -0.793646\n",
      "White_Self_Emp    0.539574\n",
      "\n",
      "\n",
      "type_of_client\n",
      "---------------\n",
      "Personal Customers    0.166189\n",
      "Wholesalers           0.833811\n",
      "\n",
      "Money_Spent & Quantity_bought\n",
      "------------------------------\n",
      "Money_Spent 1456.684555873925\n",
      "Quantity_bought 670.2722063037249\n",
      "      \n",
      "Ratio Money_Spent/Amount\n",
      "-------------------------\n",
      "2.1732731003526764\n",
      "      \n",
      "\n"
     ]
    }
   ],
   "source": [
    "# dynamic string with value counts for each demographic (cluster 1)\n",
    "print(f\"\"\"\\\n",
    " -----------\n",
    "| Cluster 1 |\n",
    " -----------\n",
    "\n",
    "Proportion of Observations\n",
    "--------------------------\n",
    "{round(len(final.loc[ : , \"model_category\"][final.loc[ : , \"model_category\"] == 0]) /\n",
    "       len(final), ndigits = 2)}\n",
    "\n",
    "\n",
    "Centroids\n",
    "---------\n",
    "{centroids_pca_df.loc[ 0 , :].to_string(dtype = False, name = False)}\n",
    "\n",
    "\n",
    "type_of_client\n",
    "---------------\n",
    "{final.loc[ : , \"type_of_client\"][ final.loc[ : , 'model_category' ] == 0]\n",
    "\n",
    "         .value_counts(normalize = True)\n",
    "\n",
    "         .sort_index().to_string(dtype = False, name = False)}\n",
    "\n",
    "Money_Spent & Quantity_bought\n",
    "------------------------------\n",
    "Money_Spent {final.loc[ : , \"money_spent\"][ final.loc[ : , 'model_category' ] == 0].mean()\n",
    "\n",
    "}\n",
    "Quantity_bought {final.loc[ : , \"quantity_bought\"][ final.loc[ : , 'model_category' ] == 0].mean()\n",
    "\n",
    "}\n",
    "      \n",
    "Ratio Money_Spent/Amount\n",
    "-------------------------\n",
    "{(final.loc[ : , \"money_spent\"][ final.loc[ : , 'model_category' ] == 0].mean()\n",
    "          / final.loc[ : , \"quantity_bought\"][ final.loc[ : , 'model_category' ] == 0].mean()\n",
    " )\n",
    "}\n",
    "      \n",
    "\"\"\")"
   ]
  },
  {
   "cell_type": "code",
   "execution_count": 36,
   "metadata": {},
   "outputs": [
    {
     "name": "stdout",
     "output_type": "stream",
     "text": [
      " -----------\n",
      "| Cluster 2 |\n",
      " -----------\n",
      "\n",
      "Proportion of Observations\n",
      "--------------------------\n",
      "0.33\n",
      "\n",
      "\n",
      "Centroids\n",
      "---------\n",
      "Single_Women     -1.101329\n",
      "Old_Unmarried    -0.134100\n",
      "White_Self_Emp   -0.180385\n",
      "\n",
      "\n",
      "type_of_client\n",
      "---------------\n",
      "Personal Customers    0.176471\n",
      "Wholesalers           0.823529\n",
      "      \n",
      "Money_Spent & Quantity_bought\n",
      "------------------------------\n",
      "Money_Spent 1125.751779411765\n",
      "Quantity_bought 648.5823529411765\n",
      "      \n",
      "Ratio Money_Spent/Amount\n",
      "------------------------------\n",
      "1.7357113931742538\n",
      "      \n",
      "\n"
     ]
    }
   ],
   "source": [
    "# dynamic string with value counts for each demographic (cluster 1)\n",
    "print(f\"\"\"\\\n",
    " -----------\n",
    "| Cluster 2 |\n",
    " -----------\n",
    "\n",
    "Proportion of Observations\n",
    "--------------------------\n",
    "{round(len(final.loc[ : , \"model_category\"][final.loc[ : , \"model_category\"] == 1]) /\n",
    "       len(final), ndigits = 2)}\n",
    "\n",
    "\n",
    "Centroids\n",
    "---------\n",
    "{centroids_pca_df.loc[ 1 , :].to_string(dtype = False, name = False)}\n",
    "\n",
    "\n",
    "type_of_client\n",
    "---------------\n",
    "{final.loc[ : , \"type_of_client\"][ final.loc[ : , 'model_category' ] == 1]\n",
    "\n",
    "         .value_counts(normalize = True)\n",
    "\n",
    "         .sort_index().to_string(dtype = False, name = False)}\n",
    "      \n",
    "Money_Spent & Quantity_bought\n",
    "------------------------------\n",
    "Money_Spent {final.loc[ : , \"money_spent\"][ final.loc[ : , 'model_category' ] == 1].mean()\n",
    "\n",
    "}\n",
    "Quantity_bought {final.loc[ : , \"quantity_bought\"][ final.loc[ : , 'model_category' ] == 1].mean()\n",
    "\n",
    "}\n",
    "      \n",
    "Ratio Money_Spent/Amount\n",
    "------------------------------\n",
    "{(final.loc[ : , \"money_spent\"][ final.loc[ : , 'model_category' ] == 1].mean()\n",
    "          / final.loc[ : , \"quantity_bought\"][ final.loc[ : , 'model_category' ] == 1].mean()\n",
    " )\n",
    "}\n",
    "      \n",
    "\"\"\")"
   ]
  },
  {
   "cell_type": "code",
   "execution_count": 37,
   "metadata": {},
   "outputs": [
    {
     "name": "stdout",
     "output_type": "stream",
     "text": [
      " -----------\n",
      "| Cluster 3 |\n",
      " -----------\n",
      "\n",
      "Proportion of Observations\n",
      "--------------------------\n",
      "0.15\n",
      "\n",
      "\n",
      "Centroids\n",
      "---------\n",
      "Single_Women      0.597938\n",
      "Old_Unmarried     0.434025\n",
      "White_Self_Emp   -2.004210\n",
      "\n",
      "\n",
      "type_of_client\n",
      "---------------\n",
      "Personal Customers    0.221477\n",
      "Wholesalers           0.778523\n",
      "      \n",
      "Money_Spent & Quantity_bought\n",
      "------------------------------\n",
      "Money_Spent 1788.2407382550334\n",
      "Quantity_bought 1952.6711409395973\n",
      "      \n",
      "Ratio Money_Spent/Amount\n",
      "------------------------------\n",
      "0.915792065936181\n",
      "      \n",
      "\n"
     ]
    }
   ],
   "source": [
    "# dynamic string with value counts for each demographic (cluster 1)\n",
    "print(f\"\"\"\\\n",
    " -----------\n",
    "| Cluster 3 |\n",
    " -----------\n",
    "\n",
    "Proportion of Observations\n",
    "--------------------------\n",
    "{round(len(final.loc[ : , \"model_category\"][final.loc[ : , \"model_category\"] == 2]) /\n",
    "       len(final), ndigits = 2)}\n",
    "\n",
    "\n",
    "Centroids\n",
    "---------\n",
    "{centroids_pca_df.loc[ 2 , :].to_string(dtype = False, name = False)}\n",
    "\n",
    "\n",
    "type_of_client\n",
    "---------------\n",
    "{final.loc[ : , \"type_of_client\"][ final.loc[ : , 'model_category' ] == 2]\n",
    "\n",
    "         .value_counts(normalize = True)\n",
    "\n",
    "         .sort_index().to_string(dtype = False, name = False)}\n",
    "      \n",
    "Money_Spent & Quantity_bought\n",
    "------------------------------\n",
    "Money_Spent {final.loc[ : , \"money_spent\"][ final.loc[ : , 'model_category' ] == 2].mean()\n",
    "\n",
    "}\n",
    "Quantity_bought {final.loc[ : , \"quantity_bought\"][ final.loc[ : , 'model_category' ] == 2].mean()\n",
    "\n",
    "}\n",
    "      \n",
    "Ratio Money_Spent/Amount\n",
    "------------------------------\n",
    "{(final.loc[ : , \"money_spent\"][ final.loc[ : , 'model_category' ] == 2].mean()\n",
    "          / final.loc[ : , \"quantity_bought\"][ final.loc[ : , 'model_category' ] == 2].mean()\n",
    " )\n",
    "}\n",
    "      \n",
    "\"\"\")"
   ]
  },
  {
   "cell_type": "code",
   "execution_count": 38,
   "metadata": {},
   "outputs": [
    {
     "name": "stdout",
     "output_type": "stream",
     "text": [
      " -----------\n",
      "| Cluster 4 |\n",
      " -----------\n",
      "\n",
      "Proportion of Observations\n",
      "--------------------------\n",
      "0.18\n",
      "\n",
      "\n",
      "Centroids\n",
      "---------\n",
      "Single_Women      0.597938\n",
      "Old_Unmarried     0.434025\n",
      "White_Self_Emp   -2.004210\n",
      "\n",
      "\n",
      "type_of_client\n",
      "---------------\n",
      "Personal Customers    0.15847\n",
      "Wholesalers           0.84153\n",
      "      \n",
      "Money_Spent & Quantity_bought\n",
      "------------------------------\n",
      "Money_Spent 1169.6489071038252\n",
      "Quantity_bought 647.5901639344262\n",
      "      \n",
      "Ratio Money_Spent/Amount\n",
      "-------------------------\n",
      "1.8061560725345756\n",
      "      \n",
      "\n"
     ]
    }
   ],
   "source": [
    "# dynamic string with value counts for each demographic (cluster 1)\n",
    "print(f\"\"\"\\\n",
    " -----------\n",
    "| Cluster 4 |\n",
    " -----------\n",
    "\n",
    "Proportion of Observations\n",
    "--------------------------\n",
    "{round(len(final.loc[ : , \"model_category\"][final.loc[ : , \"model_category\"] == 3]) /\n",
    "       len(final), ndigits = 2)}\n",
    "\n",
    "\n",
    "Centroids\n",
    "---------\n",
    "{centroids_pca_df.loc[ 2 , :].to_string(dtype = False, name = False)}\n",
    "\n",
    "\n",
    "type_of_client\n",
    "---------------\n",
    "{final.loc[ : , \"type_of_client\"][ final.loc[ : , 'model_category' ] == 3]\n",
    "\n",
    "         .value_counts(normalize = True)\n",
    "\n",
    "         .sort_index().to_string(dtype = False, name = False)}\n",
    "      \n",
    "Money_Spent & Quantity_bought\n",
    "------------------------------\n",
    "Money_Spent {final.loc[ : , \"money_spent\"][ final.loc[ : , 'model_category' ] == 3].mean()\n",
    "\n",
    "}\n",
    "Quantity_bought {final.loc[ : , \"quantity_bought\"][ final.loc[ : , 'model_category' ] == 3].mean()\n",
    "\n",
    "}\n",
    "      \n",
    "Ratio Money_Spent/Amount\n",
    "-------------------------\n",
    "{(final.loc[ : , \"money_spent\"][ final.loc[ : , 'model_category' ] == 3].mean()\n",
    "          / final.loc[ : , \"quantity_bought\"][ final.loc[ : , 'model_category' ] == 3].mean()\n",
    " )\n",
    "\n",
    "}\n",
    "      \n",
    "\"\"\")"
   ]
  },
  {
   "cell_type": "code",
   "execution_count": 39,
   "metadata": {},
   "outputs": [],
   "source": [
    "########################################\n",
    "# visual_cm\n",
    "########################################\n",
    "def visual_cm(true_y, pred_y, labels = None):\n",
    "    \"\"\"\n",
    "Creates a visualization of a confusion matrix.\n",
    "\n",
    "PARAMETERS\n",
    "----------\n",
    "true_y : true values for the response variable\n",
    "pred_y : predicted values for the response variable\n",
    "labels : , default None\n",
    "    \"\"\"\n",
    "    # visualizing the confusion matrix\n",
    "\n",
    "    # setting labels\n",
    "    lbls = labels\n",
    "    \n",
    "\n",
    "    # declaring a confusion matrix object\n",
    "    cm = confusion_matrix(y_true = true_y,\n",
    "                          y_pred = pred_y)\n",
    "\n",
    "\n",
    "    # heatmap\n",
    "    sns.heatmap(cm,\n",
    "                annot       = True,\n",
    "                xticklabels = lbls,\n",
    "                yticklabels = lbls,\n",
    "                cmap        = 'Blues',\n",
    "                fmt         = 'g')\n",
    "\n",
    "\n",
    "    plt.xlabel('Predicted')\n",
    "    plt.ylabel('Actual')\n",
    "    plt.title('Confusion Matrix of the Classifier')\n",
    "    plt.show()"
   ]
  },
  {
   "cell_type": "code",
   "execution_count": 40,
   "metadata": {},
   "outputs": [
    {
     "data": {
      "image/png": "[encoded data removed]",
      "text/plain": [
       "<Figure size 432x288 with 1 Axes>"
      ]
     },
     "metadata": {
      "needs_background": "light"
     },
     "output_type": "display_data"
    }
   ],
   "source": [
    "# Create arrays for the features and the response variable\n",
    "y = np.array(final.loc[:,'type_of_client'])\n",
    "x = np.array(final.drop('type_of_client', axis=1))\n",
    "indices = np.arange(len(y))\n",
    "x_train, x_test, y_train, y_test,x_in,y_in = train_test_split(x, y,indices, test_size = 0.25, \n",
    "                                                              random_state=219, stratify=y)\n",
    "\n",
    "# Setup arrays to store train and test accuracies\n",
    "neighbors = np.arange(1, 30)\n",
    "train_accuracy = np.empty(len(neighbors))\n",
    "test_accuracy = np.empty(len(neighbors))\n",
    "\n",
    "# Loop over different values of k\n",
    "for i, k in enumerate(neighbors):\n",
    "    # Setup a k-NN Classifier with k neighbors: knn\n",
    "    knn = KNeighborsClassifier(n_neighbors = k)\n",
    "\n",
    "    # Fit the classifier to the training data\n",
    "    knn.fit(x_train, y_train)\n",
    "    \n",
    "    #Compute accuracy on the training set\n",
    "    train_accuracy[i] = knn.score(x_train, y_train)\n",
    "\n",
    "    #Compute accuracy on the testing set\n",
    "    test_accuracy[i] = knn.score(x_test, y_test)\n",
    "\n",
    "# Generate plot\n",
    "plt.title('k-NN: Varying Number of Neighbors')\n",
    "plt.plot(neighbors, test_accuracy, label = 'Testing Accuracy')\n",
    "plt.plot(neighbors, train_accuracy, label = 'Training Accuracy')\n",
    "plt.legend()\n",
    "plt.xlabel('Number of Neighbors')\n",
    "plt.ylabel('Accuracy')\n",
    "plt.show()"
   ]
  },
  {
   "cell_type": "code",
   "execution_count": 41,
   "metadata": {},
   "outputs": [
    {
     "name": "stdout",
     "output_type": "stream",
     "text": [
      "knn Training Score: 0.8549\n",
      "knn Testing Score: 0.8594\n",
      "Knn Train-Test Gap : 0.0045\n"
     ]
    }
   ],
   "source": [
    "# Create a k-NN classifier with 8 neighbors: knn\n",
    "knn = KNeighborsClassifier(n_neighbors = 9)\n",
    "# Fit the classifier to the data\n",
    "knn.fit(x_train,y_train)\n",
    "\n",
    "# Predict the labels for the training data X\n",
    "y_pred = knn.predict(x_test)\n",
    "\n",
    "# Saving the score and gap for the train and test dataset into variables\n",
    "knn_train_score = knn.score(x_train, y_train).round(decimals=4)\n",
    "knn_test_score = knn.score(x_test, y_test).round(decimals=4)\n",
    "knn_gap_score = abs(knn.score(x_train, y_train) - knn.score(x_test, y_test)).round(4)\n",
    "# Printing the score and gap for the train and test dataset\n",
    "print(\"knn Training Score:\",knn.score(x_train, y_train).round(decimals=4))\n",
    "print(\"knn Testing Score:\",knn.score(x_test, y_test).round(decimals=4))\n",
    "print('Knn Train-Test Gap :', abs(knn.score(x_train, y_train) - knn.score(x_test, y_test)).round(4))"
   ]
  },
  {
   "cell_type": "code",
   "execution_count": 42,
   "metadata": {
    "cell_style": "center"
   },
   "outputs": [
    {
     "data": {
      "image/png": "[encoded data removed]",
      "text/plain": [
       "<Figure size 432x288 with 2 Axes>"
      ]
     },
     "metadata": {
      "needs_background": "light"
     },
     "output_type": "display_data"
    }
   ],
   "source": [
    "# calling the visual_cm function\n",
    "y_test_knn = y_test\n",
    "y_pred_knn = y_pred\n",
    "visual_cm(true_y = y_test_knn,\n",
    "          pred_y = y_pred_knn,\n",
    "          labels = ['Personal Customers', 'Wholesalers'])"
   ]
  },
  {
   "cell_type": "code",
   "execution_count": 43,
   "metadata": {
    "cell_style": "center"
   },
   "outputs": [
    {
     "name": "stdout",
     "output_type": "stream",
     "text": [
      "[[ 19  26]\n",
      " [ 10 201]]\n",
      "                    precision    recall  f1-score   support\n",
      "\n",
      "Personal Customers       0.66      0.42      0.51        45\n",
      "       Wholesalers       0.89      0.95      0.92       211\n",
      "\n",
      "          accuracy                           0.86       256\n",
      "         macro avg       0.77      0.69      0.72       256\n",
      "      weighted avg       0.84      0.86      0.85       256\n",
      "\n"
     ]
    }
   ],
   "source": [
    "## printing the confusion matrix and the classification report \n",
    "knn_cm = confusion_matrix(y_test,y_pred)\n",
    "knn_cr = classification_report(y_test,y_pred)\n",
    "print(confusion_matrix(y_test,y_pred))\n",
    "print(classification_report(y_test,y_pred))"
   ]
  },
  {
   "cell_type": "markdown",
   "metadata": {},
   "source": [
    "### Confusion Matrix Analysis\n",
    "\n",
    "As we can see in the confusion matrix, our model helps us predict 85% of the customers successfully. This means that if we get a customer without knowing which one is his/her type, Wholesaler or Regular, we have an 85% chance of predicting them properly, or in other words, 85 out of 100 customers would be predicted as their actual value indicates. \n",
    "\n",
    "In this case, out of the 25 regular customers that were predicted, 20 were anticipated perfectly, meanwhile the other 10 were wrongly classified as regular when they were truly wholesalers, which means that the precision for regular customers was 68%. For the prediction of wholesalers, 201 were predicted accordingly, meanwhile the other 28 were mistakenly classified as wholesalers when they were in fact regular customers, which means that the precision for wholesalers was 89%. \n"
   ]
  },
  {
   "cell_type": "markdown",
   "metadata": {},
   "source": [
    "### Prediction Model Analysis"
   ]
  },
  {
   "cell_type": "code",
   "execution_count": 44,
   "metadata": {},
   "outputs": [],
   "source": [
    "# converting into a DataFrame \n",
    "data_pca = pd.DataFrame(customer_pca_3)\n",
    "\n",
    "\n",
    "# renaming columns\n",
    "data_pca.columns = factor_loadings_3.columns\n",
    "\n",
    "\n",
    "# checking results\n",
    "#survey_pca"
   ]
  },
  {
   "cell_type": "code",
   "execution_count": 45,
   "metadata": {},
   "outputs": [],
   "source": [
    "customers_kmeans_pca['Cluster'] = customers_kmeans_pca['Cluster'].astype(float)"
   ]
  },
  {
   "cell_type": "code",
   "execution_count": 46,
   "metadata": {},
   "outputs": [],
   "source": [
    "#Concatenating cluster and compoents\n",
    "pca_clust_df = pd.concat([customers_kmeans_pca, \n",
    "                                data_pca], \n",
    "                                axis = 1)\n",
    "\n",
    "# concatenating demographic information with pca-clusters\n",
    "final_pca_clust_df = pd.concat([model_df_2.loc[ : , ['age','sex_F',\n",
    "                                         'race_White','employment_type_Self-emp-not-inc',\n",
    "                                         'marital_status_Married-civ-spouse',\n",
    "                                         'relationship_in_household_Husband',\n",
    "                                         'relationship_in_household_Unmarried'\n",
    "                                ]],\n",
    "                                pca_clust_df],\n",
    "                                axis = 1)\n",
    "\n",
    "\n",
    "# renaming columns\n",
    "final_pca_clust_df.columns = ['age','sex_F',\n",
    "                                 'race_White','employment_type_Self-emp-not-inc',\n",
    "                                 'marital_status_Married-civ-spouse',\n",
    "                                 'relationship_in_household_Husband',\n",
    "                                 'relationship_in_household_Unmarried',\n",
    "                                 'Cluster','Single_Women',  \n",
    "                                 'Old_Unmarried',  \n",
    "                                 'White_Self_Emp']\n",
    "\n",
    "\n",
    "# checking the results\n",
    "#print(final_pca_clust_df.head(n = 5))un\n",
    "\n",
    "data_df = pd.DataFrame(final_pca_clust_df)\n",
    "#data_df.head(10)\n",
    "\n",
    "#data_df.head(10)"
   ]
  },
  {
   "cell_type": "code",
   "execution_count": 47,
   "metadata": {},
   "outputs": [
    {
     "data": {
      "text/html": [
       "<div>\n",
       "<style scoped>\n",
       "    .dataframe tbody tr th:only-of-type {\n",
       "        vertical-align: middle;\n",
       "    }\n",
       "\n",
       "    .dataframe tbody tr th {\n",
       "        vertical-align: top;\n",
       "    }\n",
       "\n",
       "    .dataframe thead th {\n",
       "        text-align: right;\n",
       "    }\n",
       "</style>\n",
       "<table border=\"1\" class=\"dataframe\">\n",
       "  <thead>\n",
       "    <tr style=\"text-align: right;\">\n",
       "      <th></th>\n",
       "      <th>age</th>\n",
       "      <th>sex_F</th>\n",
       "      <th>race_White</th>\n",
       "      <th>employment_type_Self-emp-not-inc</th>\n",
       "      <th>marital_status_Married-civ-spouse</th>\n",
       "      <th>relationship_in_household_Husband</th>\n",
       "      <th>relationship_in_household_Unmarried</th>\n",
       "      <th>Cluster</th>\n",
       "      <th>Single_Women</th>\n",
       "      <th>Old_Unmarried</th>\n",
       "      <th>White_Self_Emp</th>\n",
       "    </tr>\n",
       "  </thead>\n",
       "  <tbody>\n",
       "    <tr>\n",
       "      <th>0</th>\n",
       "      <td>44</td>\n",
       "      <td>0</td>\n",
       "      <td>1</td>\n",
       "      <td>0</td>\n",
       "      <td>1</td>\n",
       "      <td>1</td>\n",
       "      <td>0</td>\n",
       "      <td>1.0</td>\n",
       "      <td>-1.787655</td>\n",
       "      <td>-0.150487</td>\n",
       "      <td>-0.181772</td>\n",
       "    </tr>\n",
       "    <tr>\n",
       "      <th>1</th>\n",
       "      <td>21</td>\n",
       "      <td>0</td>\n",
       "      <td>1</td>\n",
       "      <td>0</td>\n",
       "      <td>0</td>\n",
       "      <td>0</td>\n",
       "      <td>0</td>\n",
       "      <td>0.0</td>\n",
       "      <td>0.899882</td>\n",
       "      <td>-1.583887</td>\n",
       "      <td>0.511961</td>\n",
       "    </tr>\n",
       "    <tr>\n",
       "      <th>2</th>\n",
       "      <td>19</td>\n",
       "      <td>1</td>\n",
       "      <td>1</td>\n",
       "      <td>0</td>\n",
       "      <td>0</td>\n",
       "      <td>0</td>\n",
       "      <td>0</td>\n",
       "      <td>0.0</td>\n",
       "      <td>1.843097</td>\n",
       "      <td>-1.054697</td>\n",
       "      <td>0.636926</td>\n",
       "    </tr>\n",
       "    <tr>\n",
       "      <th>3</th>\n",
       "      <td>32</td>\n",
       "      <td>1</td>\n",
       "      <td>1</td>\n",
       "      <td>0</td>\n",
       "      <td>0</td>\n",
       "      <td>0</td>\n",
       "      <td>0</td>\n",
       "      <td>0.0</td>\n",
       "      <td>1.603525</td>\n",
       "      <td>-0.442064</td>\n",
       "      <td>0.649744</td>\n",
       "    </tr>\n",
       "    <tr>\n",
       "      <th>4</th>\n",
       "      <td>54</td>\n",
       "      <td>0</td>\n",
       "      <td>1</td>\n",
       "      <td>0</td>\n",
       "      <td>1</td>\n",
       "      <td>1</td>\n",
       "      <td>0</td>\n",
       "      <td>1.0</td>\n",
       "      <td>-1.971941</td>\n",
       "      <td>0.320769</td>\n",
       "      <td>-0.171912</td>\n",
       "    </tr>\n",
       "    <tr>\n",
       "      <th>...</th>\n",
       "      <td>...</td>\n",
       "      <td>...</td>\n",
       "      <td>...</td>\n",
       "      <td>...</td>\n",
       "      <td>...</td>\n",
       "      <td>...</td>\n",
       "      <td>...</td>\n",
       "      <td>...</td>\n",
       "      <td>...</td>\n",
       "      <td>...</td>\n",
       "      <td>...</td>\n",
       "    </tr>\n",
       "    <tr>\n",
       "      <th>1016</th>\n",
       "      <td>65</td>\n",
       "      <td>0</td>\n",
       "      <td>1</td>\n",
       "      <td>0</td>\n",
       "      <td>1</td>\n",
       "      <td>1</td>\n",
       "      <td>0</td>\n",
       "      <td>1.0</td>\n",
       "      <td>-2.174655</td>\n",
       "      <td>0.839152</td>\n",
       "      <td>-0.161066</td>\n",
       "    </tr>\n",
       "    <tr>\n",
       "      <th>1017</th>\n",
       "      <td>24</td>\n",
       "      <td>0</td>\n",
       "      <td>1</td>\n",
       "      <td>0</td>\n",
       "      <td>1</td>\n",
       "      <td>1</td>\n",
       "      <td>0</td>\n",
       "      <td>1.0</td>\n",
       "      <td>-1.419083</td>\n",
       "      <td>-1.093001</td>\n",
       "      <td>-0.201493</td>\n",
       "    </tr>\n",
       "    <tr>\n",
       "      <th>1018</th>\n",
       "      <td>51</td>\n",
       "      <td>0</td>\n",
       "      <td>1</td>\n",
       "      <td>1</td>\n",
       "      <td>1</td>\n",
       "      <td>1</td>\n",
       "      <td>0</td>\n",
       "      <td>3.0</td>\n",
       "      <td>-2.431849</td>\n",
       "      <td>1.991418</td>\n",
       "      <td>1.855482</td>\n",
       "    </tr>\n",
       "    <tr>\n",
       "      <th>1019</th>\n",
       "      <td>21</td>\n",
       "      <td>1</td>\n",
       "      <td>0</td>\n",
       "      <td>0</td>\n",
       "      <td>0</td>\n",
       "      <td>0</td>\n",
       "      <td>0</td>\n",
       "      <td>2.0</td>\n",
       "      <td>2.215427</td>\n",
       "      <td>-0.436803</td>\n",
       "      <td>-1.651881</td>\n",
       "    </tr>\n",
       "    <tr>\n",
       "      <th>1020</th>\n",
       "      <td>57</td>\n",
       "      <td>0</td>\n",
       "      <td>0</td>\n",
       "      <td>0</td>\n",
       "      <td>1</td>\n",
       "      <td>1</td>\n",
       "      <td>0</td>\n",
       "      <td>2.0</td>\n",
       "      <td>-1.618039</td>\n",
       "      <td>0.985789</td>\n",
       "      <td>-2.459733</td>\n",
       "    </tr>\n",
       "  </tbody>\n",
       "</table>\n",
       "<p>1021 rows × 11 columns</p>\n",
       "</div>"
      ],
      "text/plain": [
       "      age  sex_F  race_White  employment_type_Self-emp-not-inc  marital_status_Married-civ-spouse  relationship_in_household_Husband  relationship_in_household_Unmarried  Cluster  Single_Women  Old_Unmarried  White_Self_Emp\n",
       "0      44      0           1                                 0                                  1                                  1                                    0      1.0     -1.787655      -0.150487       -0.181772\n",
       "1      21      0           1                                 0                                  0                                  0                                    0      0.0      0.899882      -1.583887        0.511961\n",
       "2      19      1           1                                 0                                  0                                  0                                    0      0.0      1.843097      -1.054697        0.636926\n",
       "3      32      1           1                                 0                                  0                                  0                                    0      0.0      1.603525      -0.442064        0.649744\n",
       "4      54      0           1                                 0                                  1                                  1                                    0      1.0     -1.971941       0.320769       -0.171912\n",
       "...   ...    ...         ...                               ...                                ...                                ...                                  ...      ...           ...            ...             ...\n",
       "1016   65      0           1                                 0                                  1                                  1                                    0      1.0     -2.174655       0.839152       -0.161066\n",
       "1017   24      0           1                                 0                                  1                                  1                                    0      1.0     -1.419083      -1.093001       -0.201493\n",
       "1018   51      0           1                                 1                                  1                                  1                                    0      3.0     -2.431849       1.991418        1.855482\n",
       "1019   21      1           0                                 0                                  0                                  0                                    0      2.0      2.215427      -0.436803       -1.651881\n",
       "1020   57      0           0                                 0                                  1                                  1                                    0      2.0     -1.618039       0.985789       -2.459733\n",
       "\n",
       "[1021 rows x 11 columns]"
      ]
     },
     "execution_count": 47,
     "metadata": {},
     "output_type": "execute_result"
    }
   ],
   "source": [
    "data_df"
   ]
  },
  {
   "cell_type": "code",
   "execution_count": 48,
   "metadata": {},
   "outputs": [
    {
     "data": {
      "image/png": "[encoded data removed]",
      "text/plain": [
       "<Figure size 864x576 with 1 Axes>"
      ]
     },
     "metadata": {
      "needs_background": "light"
     },
     "output_type": "display_data"
    }
   ],
   "source": [
    "########################\n",
    "# type_of_client\n",
    "########################\n",
    "\n",
    "# Follower \n",
    "fig, ax = plt.subplots(figsize = (12, 8))\n",
    "sns.scatterplot(x = 'Cluster',\n",
    "            y = 'Single_Women',\n",
    "#            hue = ' Cluster',\n",
    "            data = data_df)\n",
    "\n",
    "\n",
    "# formatting and displaying the plot\n",
    "plt.tight_layout()\n",
    "plt.show()\n",
    "\n",
    "###Q- Line 9 not work and why? We already check the Cluster is float variable."
   ]
  },
  {
   "cell_type": "code",
   "execution_count": 49,
   "metadata": {},
   "outputs": [
    {
     "name": "stdout",
     "output_type": "stream",
     "text": [
      "<class 'pandas.core.frame.DataFrame'>\n",
      "RangeIndex: 1021 entries, 0 to 1020\n",
      "Data columns (total 11 columns):\n",
      " #   Column                               Non-Null Count  Dtype  \n",
      "---  ------                               --------------  -----  \n",
      " 0   age                                  1021 non-null   int64  \n",
      " 1   sex_F                                1021 non-null   uint8  \n",
      " 2   race_White                           1021 non-null   uint8  \n",
      " 3   employment_type_Self-emp-not-inc     1021 non-null   uint8  \n",
      " 4   marital_status_Married-civ-spouse    1021 non-null   uint8  \n",
      " 5   relationship_in_household_Husband    1021 non-null   uint8  \n",
      " 6   relationship_in_household_Unmarried  1021 non-null   uint8  \n",
      " 7   Cluster                              1021 non-null   float64\n",
      " 8   Single_Women                         1021 non-null   float64\n",
      " 9   Old_Unmarried                        1021 non-null   float64\n",
      " 10  White_Self_Emp                       1021 non-null   float64\n",
      "dtypes: float64(4), int64(1), uint8(6)\n",
      "memory usage: 46.0 KB\n"
     ]
    }
   ],
   "source": [
    "data_df.info()"
   ]
  },
  {
   "cell_type": "code",
   "execution_count": 51,
   "metadata": {},
   "outputs": [],
   "source": [
    "data_df['Cluster'] = data_df['Cluster'].astype(float)"
   ]
  },
  {
   "cell_type": "code",
   "execution_count": 52,
   "metadata": {
    "scrolled": false
   },
   "outputs": [
    {
     "data": {
      "image/png": "[encoded data removed]",
      "text/plain": [
       "<Figure size 864x576 with 1 Axes>"
      ]
     },
     "metadata": {
      "needs_background": "light"
     },
     "output_type": "display_data"
    },
    {
     "data": {
      "image/png": "[encoded data removed]",
      "text/plain": [
       "<Figure size 864x576 with 1 Axes>"
      ]
     },
     "metadata": {
      "needs_background": "light"
     },
     "output_type": "display_data"
    }
   ],
   "source": [
    "########################\n",
    "# PCA 1\n",
    "########################\n",
    "\n",
    "# Follower \n",
    "fig, ax = plt.subplots(figsize = (12, 8))\n",
    "sns.boxplot(x = 'Cluster',\n",
    "            y = 'Single_Women',\n",
    "#            hue = ' Cluster',\n",
    "            data = data_df)\n",
    "\n",
    "\n",
    "# formatting and displaying the plot\n",
    "plt.tight_layout()\n",
    "plt.show()\n",
    "\n",
    "########################\n",
    "# PCA 1\n",
    "########################\n",
    "\n",
    "# Follower \n",
    "fig, ax = plt.subplots(figsize = (12, 8))\n",
    "sns.boxplot(x = 'race_White',\n",
    "            y = 'Single_Women',\n",
    "            hue = 'Cluster',\n",
    "            data = data_df)\n",
    "\n",
    "\n",
    "# formatting and displaying the plot\n",
    "plt.tight_layout()\n",
    "plt.show()"
   ]
  },
  {
   "cell_type": "markdown",
   "metadata": {},
   "source": [
    "PCA 1 -  the relationship between Clusters and Single_Women. The Box plot shows the cluster 0 is the single women, because all the value in the positive range. And the cluster 1 has no single women due to the the value of single women is -1. The cluster 2 and cluster 3 are not related to the single women because we can't say it's close to the components.  \n",
    "\n",
    "Red- Single white women are more than the non- white women which is far from the components single women in Cluster 3 is middle age white unmarried entrepreneurs. \n",
    "\n",
    "Orange- White men in relationship and non-single women.\n",
    "\n",
    "Blue- White single women are young and self employed.\n",
    "\n",
    "Green- Non- white and old unmarried.\n",
    "\n",
    "\n",
    "Cluster 0 is young single women and self employed.\n",
    "Cluster 1 is men in relationship.\n",
    "Cluster 2 is not white and old unmarried.\n",
    "Cluster 3 is middle age white unmarried entrepreneurs.\n"
   ]
  },
  {
   "cell_type": "code",
   "execution_count": 54,
   "metadata": {
    "scrolled": false
   },
   "outputs": [
    {
     "data": {
      "image/png": "[encoded data removed]",
      "text/plain": [
       "<Figure size 864x576 with 1 Axes>"
      ]
     },
     "metadata": {
      "needs_background": "light"
     },
     "output_type": "display_data"
    },
    {
     "data": {
      "image/png": "[encoded data removed]",
      "text/plain": [
       "<Figure size 864x576 with 1 Axes>"
      ]
     },
     "metadata": {
      "needs_background": "light"
     },
     "output_type": "display_data"
    }
   ],
   "source": [
    "########################\n",
    "# PCA 2\n",
    "########################\n",
    "\n",
    "# Follower \n",
    "fig, ax = plt.subplots(figsize = (12, 8))\n",
    "sns.boxplot(x = 'Cluster',\n",
    "            y = 'Old_Unmarried',\n",
    "#            hue = ' Cluster',\n",
    "            data = data_df)\n",
    "\n",
    "\n",
    "# formatting and displaying the plot\n",
    "plt.tight_layout()\n",
    "plt.show()\n",
    "\n",
    "########################\n",
    "# PCA 2\n",
    "########################\n",
    "\n",
    "# Follower \n",
    "fig, ax = plt.subplots(figsize = (12, 8))\n",
    "sns.boxplot(x = 'sex_F',\n",
    "            y = 'Old_Unmarried',\n",
    "            hue = 'Cluster',\n",
    "            data = data_df)\n",
    "\n",
    "\n",
    "# formatting and displaying the plot\n",
    "plt.tight_layout()\n",
    "plt.show()"
   ]
  },
  {
   "cell_type": "markdown",
   "metadata": {},
   "source": [
    "PCA 2 -  the relationship between Clusters and Old_Unmarried. The Box plot shows the cluster 0 has the negative relationship with the old unmarried people. The cluster 1 is close to neutral because its value close to \"0\". The cluster 2, is no many relationship with the old unmarried people because its half value negative and half positive. The cluster 3 is related to the old unmarried people because its positive.\n",
    "\n",
    "Red- old unmarried women and entrepreneurs slightly less than the old unmarried men and entrepreneurs.\n",
    "Orange- men in relationship.\n",
    "Blue- young single women and self employed slightly more than men.\n",
    "Green- is not white and old unmarried women more than men.\n",
    "\n",
    "\n",
    "Cluster 0 is young single women and self employed.\n",
    "Cluster 1 is men in relationship.\n",
    "Cluster 2 is not white and old unmarried.\n",
    "Cluster 3 is middle age white unmarried entrepreneurs.\n"
   ]
  },
  {
   "cell_type": "code",
   "execution_count": 55,
   "metadata": {
    "scrolled": true
   },
   "outputs": [
    {
     "data": {
      "image/png": "[encoded data removed]",
      "text/plain": [
       "<Figure size 864x576 with 1 Axes>"
      ]
     },
     "metadata": {
      "needs_background": "light"
     },
     "output_type": "display_data"
    },
    {
     "data": {
      "image/png": "[encoded data removed]",
      "text/plain": [
       "<Figure size 864x576 with 1 Axes>"
      ]
     },
     "metadata": {
      "needs_background": "light"
     },
     "output_type": "display_data"
    }
   ],
   "source": [
    "########################\n",
    "# PCA 3\n",
    "########################\n",
    "\n",
    "# Follower \n",
    "fig, ax = plt.subplots(figsize = (12, 8))\n",
    "sns.boxplot(x = 'Cluster',\n",
    "            y = 'White_Self_Emp',\n",
    "#            hue = ' Cluster',\n",
    "            data = data_df)\n",
    "\n",
    "\n",
    "# formatting and displaying the plot\n",
    "plt.tight_layout()\n",
    "plt.show()\n",
    "\n",
    "########################\n",
    "# PCA 3\n",
    "########################\n",
    "\n",
    "# Follower \n",
    "fig, ax = plt.subplots(figsize = (12, 8))\n",
    "sns.boxplot(x = 'sex_F',\n",
    "            y = 'White_Self_Emp',\n",
    "            hue = 'Cluster',\n",
    "            data = data_df)\n",
    "\n",
    "\n",
    "# formatting and displaying the plot\n",
    "plt.tight_layout()\n",
    "plt.show()"
   ]
  },
  {
   "cell_type": "markdown",
   "metadata": {},
   "source": [
    "PCA 3- The box plots show cluster 0 and 3 is positive and related to the white self employee. The cluster 1  is neutral and cluster 2 is negative related to the white self employee. \n",
    "\n",
    "\n",
    "Red- old unmarried women and entrepreneurs less than the old unmarried men and entrepreneurs.\n",
    "\n",
    "Green- is not white and old unmarried women less than men.\n",
    "\n",
    "\n",
    "\n",
    "Cluster 0 is young single women and self employed.\n",
    "Cluster 1 is men in relationship.\n",
    "Cluster 2 is not white and old unmarried.\n",
    "Cluster 3 is middle age white unmarried entrepreneurs.\n"
   ]
  },
  {
   "cell_type": "code",
   "execution_count": 78,
   "metadata": {},
   "outputs": [
    {
     "name": "stdout",
     "output_type": "stream",
     "text": [
      "(2992, 18)\n"
     ]
    },
    {
     "data": {
      "text/plain": [
       "(2992, 28)"
      ]
     },
     "execution_count": 78,
     "metadata": {},
     "output_type": "execute_result"
    }
   ],
   "source": [
    "############# PREDICTION of the Data #############\n",
    "\n",
    "## saving file path for the unlabeld dataframe\n",
    "unlabel = './Prediction_dataset_Joined_Assignment.csv'\n",
    "\n",
    "## use read csv function to load the dataframe\n",
    "unlabel_df = pd.read_csv(filepath_or_buffer = unlabel)\n",
    "print(unlabel_df.shape)\n",
    "\n",
    "## also creating the same dummie variables for the unlabeld data\n",
    "features = ['sex','occupation','employment_type','relationship_in_household','country_code','marital_status','race']\n",
    "\n",
    "## saving them into a new dataframe\n",
    "unlabel_df_l= unlabel_df.loc[:,features]\n",
    "unlabel_df_l['age'] = unlabel_df['age']\n",
    "unlabel_df_l['completed_years_of_education'] = unlabel_df['completed_years_of_education']\n",
    "unlabel_df_l['times_bought'] = unlabel_df['times_bought']\n",
    "unlabel_df_l['N1_quantity_bought'] = unlabel_df['N1_quantity_bought']\n",
    "unlabel_df_l['money_spent'] = unlabel_df['money_spent']\n",
    "unlabel_df_l = pd.get_dummies(unlabel_df_l, columns = features)\n",
    "unlabel_df_l.shape\n"
   ]
  },
  {
   "cell_type": "code",
   "execution_count": 79,
   "metadata": {},
   "outputs": [],
   "source": [
    "pca_features = ['age','sex_F',\n",
    "'race_White','employment_type_Self-emp-not-inc',\n",
    "       'marital_status_Married-civ-spouse',\n",
    "       'relationship_in_household_Husband',\n",
    "       'relationship_in_household_Unmarried'\n",
    "       ]\n",
    "\n",
    "unlabel_df_pca= unlabel_df_l.loc[:,pca_features]"
   ]
  },
  {
   "cell_type": "code",
   "execution_count": 80,
   "metadata": {},
   "outputs": [
    {
     "data": {
      "text/html": [
       "<div>\n",
       "<style scoped>\n",
       "    .dataframe tbody tr th:only-of-type {\n",
       "        vertical-align: middle;\n",
       "    }\n",
       "\n",
       "    .dataframe tbody tr th {\n",
       "        vertical-align: top;\n",
       "    }\n",
       "\n",
       "    .dataframe thead th {\n",
       "        text-align: right;\n",
       "    }\n",
       "</style>\n",
       "<table border=\"1\" class=\"dataframe\">\n",
       "  <thead>\n",
       "    <tr style=\"text-align: right;\">\n",
       "      <th></th>\n",
       "      <th>Married_Men</th>\n",
       "      <th>Old_Unmarried</th>\n",
       "      <th>White_Self_Emp</th>\n",
       "    </tr>\n",
       "  </thead>\n",
       "  <tbody>\n",
       "    <tr>\n",
       "      <th>0</th>\n",
       "      <td>-1.575029</td>\n",
       "      <td>-0.703772</td>\n",
       "      <td>-0.365065</td>\n",
       "    </tr>\n",
       "    <tr>\n",
       "      <th>1</th>\n",
       "      <td>-2.422534</td>\n",
       "      <td>1.462423</td>\n",
       "      <td>2.084131</td>\n",
       "    </tr>\n",
       "    <tr>\n",
       "      <th>2</th>\n",
       "      <td>-1.575029</td>\n",
       "      <td>-0.703772</td>\n",
       "      <td>-0.365065</td>\n",
       "    </tr>\n",
       "    <tr>\n",
       "      <th>3</th>\n",
       "      <td>0.561734</td>\n",
       "      <td>-0.564313</td>\n",
       "      <td>0.137526</td>\n",
       "    </tr>\n",
       "    <tr>\n",
       "      <th>4</th>\n",
       "      <td>-1.770485</td>\n",
       "      <td>-0.226904</td>\n",
       "      <td>-0.360208</td>\n",
       "    </tr>\n",
       "  </tbody>\n",
       "</table>\n",
       "</div>"
      ],
      "text/plain": [
       "   Married_Men  Old_Unmarried  White_Self_Emp\n",
       "0    -1.575029      -0.703772       -0.365065\n",
       "1    -2.422534       1.462423        2.084131\n",
       "2    -1.575029      -0.703772       -0.365065\n",
       "3     0.561734      -0.564313        0.137526\n",
       "4    -1.770485      -0.226904       -0.360208"
      ]
     },
     "execution_count": 80,
     "metadata": {},
     "output_type": "execute_result"
    }
   ],
   "source": [
    "# scaling (normalizing) variables \n",
    "unlabel_df_scaled = scaler(df = unlabel_df_pca)\n",
    "\n",
    "# FITTING and TRANSFORMING the purchases_scaled\n",
    "unlabel_pca_3 = pca_3.fit_transform(unlabel_df_scaled)\n",
    "\n",
    "# converting customer-level data into DataFrame\n",
    "unlabel_pca_3 = pd.DataFrame(unlabel_pca_3)\n",
    "\n",
    "\n",
    "# renaming the level\n",
    "unlabel_pca_3.columns = ['Married_Men',    \n",
    "                             'Old_Unmarried',       \n",
    "                             'White_Self_Emp']\n",
    "\n",
    "# checking factor loadings per customer\n",
    "unlabel_pca_3.head(n = 5)"
   ]
  },
  {
   "cell_type": "code",
   "execution_count": 84,
   "metadata": {},
   "outputs": [
    {
     "name": "stdout",
     "output_type": "stream",
     "text": [
      "Married_Men       2.630847\n",
      "Old_Unmarried     1.137031\n",
      "White_Self_Emp    1.000693\n",
      "dtype: float64 \n",
      "\n",
      "\n",
      "Married_Men       1.0\n",
      "Old_Unmarried     1.0\n",
      "White_Self_Emp    1.0\n",
      "dtype: float64\n"
     ]
    }
   ],
   "source": [
    "# applying the unsupervised_scaler function to streamline\n",
    "unlabel_pca_scaled = scaler(df = unlabel_pca_3)\n",
    "\n",
    "# checking pre- and post-scaling variances on the data\n",
    "print(np.var(unlabel_pca_3), '\\n\\n')\n",
    "print(np.var(unlabel_pca_scaled))"
   ]
  },
  {
   "cell_type": "code",
   "execution_count": 85,
   "metadata": {},
   "outputs": [
    {
     "data": {
      "text/plain": [
       "3    0.372660\n",
       "0    0.355615\n",
       "1    0.196190\n",
       "2    0.075535\n",
       "Name: model_category, dtype: float64"
      ]
     },
     "execution_count": 85,
     "metadata": {},
     "output_type": "execute_result"
    }
   ],
   "source": [
    "# Label original data using 3 clusters\n",
    "unlabel_labels = kmeans.fit_predict(unlabel_pca_scaled)\n",
    "\n",
    "#Create dataframe using the original dataframe and new labeled column\n",
    "final_unlabel = pd.concat([unlabel_pca_scaled, pd.DataFrame(unlabel_labels)],axis=1)\n",
    "final_unlabel = final_unlabel.rename(columns={0:\"model_category\"})\n",
    "\n",
    "# checking the dist of data\n",
    "final_unlabel.model_category.value_counts(normalize=True)"
   ]
  },
  {
   "cell_type": "code",
   "execution_count": 86,
   "metadata": {},
   "outputs": [],
   "source": [
    "# Adding Numerical Values\n",
    "final_unlabel['money_spent'] = unlabel_df['money_spent']\n",
    "final_unlabel['quantity_bought'] = unlabel_df['quantity_bought']\n",
    "## using the knn-prediction model on the unlabeled data \n",
    "unlabel_pred = knn.predict(np.array(final_unlabel))"
   ]
  },
  {
   "cell_type": "code",
   "execution_count": 63,
   "metadata": {},
   "outputs": [
    {
     "name": "stdout",
     "output_type": "stream",
     "text": [
      "(2992, 7)\n"
     ]
    },
    {
     "data": {
      "text/html": [
       "<div>\n",
       "<style scoped>\n",
       "    .dataframe tbody tr th:only-of-type {\n",
       "        vertical-align: middle;\n",
       "    }\n",
       "\n",
       "    .dataframe tbody tr th {\n",
       "        vertical-align: top;\n",
       "    }\n",
       "\n",
       "    .dataframe thead th {\n",
       "        text-align: right;\n",
       "    }\n",
       "</style>\n",
       "<table border=\"1\" class=\"dataframe\">\n",
       "  <thead>\n",
       "    <tr style=\"text-align: right;\">\n",
       "      <th></th>\n",
       "      <th>Married_Men</th>\n",
       "      <th>Old_Unmarried</th>\n",
       "      <th>White_Self_Emp</th>\n",
       "      <th>model_category</th>\n",
       "      <th>money_spent</th>\n",
       "      <th>quantity_bought</th>\n",
       "      <th>type_of_client</th>\n",
       "    </tr>\n",
       "  </thead>\n",
       "  <tbody>\n",
       "    <tr>\n",
       "      <th>0</th>\n",
       "      <td>-0.971048</td>\n",
       "      <td>-0.660003</td>\n",
       "      <td>-0.364939</td>\n",
       "      <td>0</td>\n",
       "      <td>71.35</td>\n",
       "      <td>152</td>\n",
       "      <td>Wholesalers</td>\n",
       "    </tr>\n",
       "    <tr>\n",
       "      <th>1</th>\n",
       "      <td>-1.493558</td>\n",
       "      <td>1.371471</td>\n",
       "      <td>2.083410</td>\n",
       "      <td>2</td>\n",
       "      <td>3.75</td>\n",
       "      <td>3</td>\n",
       "      <td>Personal Customers</td>\n",
       "    </tr>\n",
       "    <tr>\n",
       "      <th>2</th>\n",
       "      <td>-0.971048</td>\n",
       "      <td>-0.660003</td>\n",
       "      <td>-0.364939</td>\n",
       "      <td>0</td>\n",
       "      <td>303.52</td>\n",
       "      <td>100</td>\n",
       "      <td>Wholesalers</td>\n",
       "    </tr>\n",
       "    <tr>\n",
       "      <th>3</th>\n",
       "      <td>0.346325</td>\n",
       "      <td>-0.529217</td>\n",
       "      <td>0.137478</td>\n",
       "      <td>3</td>\n",
       "      <td>967.94</td>\n",
       "      <td>257</td>\n",
       "      <td>Wholesalers</td>\n",
       "    </tr>\n",
       "    <tr>\n",
       "      <th>4</th>\n",
       "      <td>-1.091552</td>\n",
       "      <td>-0.212793</td>\n",
       "      <td>-0.360083</td>\n",
       "      <td>0</td>\n",
       "      <td>483.05</td>\n",
       "      <td>299</td>\n",
       "      <td>Wholesalers</td>\n",
       "    </tr>\n",
       "    <tr>\n",
       "      <th>5</th>\n",
       "      <td>-1.127704</td>\n",
       "      <td>-0.078630</td>\n",
       "      <td>-0.358626</td>\n",
       "      <td>0</td>\n",
       "      <td>2802.47</td>\n",
       "      <td>1608</td>\n",
       "      <td>Wholesalers</td>\n",
       "    </tr>\n",
       "    <tr>\n",
       "      <th>6</th>\n",
       "      <td>1.082433</td>\n",
       "      <td>0.519594</td>\n",
       "      <td>0.123525</td>\n",
       "      <td>1</td>\n",
       "      <td>617.62</td>\n",
       "      <td>200</td>\n",
       "      <td>Wholesalers</td>\n",
       "    </tr>\n",
       "    <tr>\n",
       "      <th>7</th>\n",
       "      <td>0.532299</td>\n",
       "      <td>-1.354314</td>\n",
       "      <td>0.440317</td>\n",
       "      <td>3</td>\n",
       "      <td>489.91</td>\n",
       "      <td>232</td>\n",
       "      <td>Wholesalers</td>\n",
       "    </tr>\n",
       "    <tr>\n",
       "      <th>8</th>\n",
       "      <td>0.375643</td>\n",
       "      <td>-0.772941</td>\n",
       "      <td>0.446630</td>\n",
       "      <td>3</td>\n",
       "      <td>481.77</td>\n",
       "      <td>201</td>\n",
       "      <td>Wholesalers</td>\n",
       "    </tr>\n",
       "    <tr>\n",
       "      <th>9</th>\n",
       "      <td>-1.332560</td>\n",
       "      <td>0.681628</td>\n",
       "      <td>-0.350370</td>\n",
       "      <td>0</td>\n",
       "      <td>258.38</td>\n",
       "      <td>68</td>\n",
       "      <td>Wholesalers</td>\n",
       "    </tr>\n",
       "  </tbody>\n",
       "</table>\n",
       "</div>"
      ],
      "text/plain": [
       "   Married_Men  Old_Unmarried  White_Self_Emp  model_category  money_spent  quantity_bought      type_of_client\n",
       "0    -0.971048      -0.660003       -0.364939               0        71.35              152         Wholesalers\n",
       "1    -1.493558       1.371471        2.083410               2         3.75                3  Personal Customers\n",
       "2    -0.971048      -0.660003       -0.364939               0       303.52              100         Wholesalers\n",
       "3     0.346325      -0.529217        0.137478               3       967.94              257         Wholesalers\n",
       "4    -1.091552      -0.212793       -0.360083               0       483.05              299         Wholesalers\n",
       "5    -1.127704      -0.078630       -0.358626               0      2802.47             1608         Wholesalers\n",
       "6     1.082433       0.519594        0.123525               1       617.62              200         Wholesalers\n",
       "7     0.532299      -1.354314        0.440317               3       489.91              232         Wholesalers\n",
       "8     0.375643      -0.772941        0.446630               3       481.77              201         Wholesalers\n",
       "9    -1.332560       0.681628       -0.350370               0       258.38               68         Wholesalers"
      ]
     },
     "execution_count": 63,
     "metadata": {},
     "output_type": "execute_result"
    }
   ],
   "source": [
    "## Merging the predicted values and the rest of the unlabeled dataframe\n",
    "labeled_df = pd.concat([final_unlabel, pd.DataFrame(unlabel_pred)],axis=1)\n",
    "print(labeled_df.shape)\n",
    "## rename the column 0 to type of client\n",
    "labeled_df = labeled_df.rename(columns={0:\"type_of_client\"})\n",
    "labeled_df.head(n=10)"
   ]
  },
  {
   "cell_type": "code",
   "execution_count": 87,
   "metadata": {},
   "outputs": [
    {
     "data": {
      "text/plain": [
       "type_of_client\n",
       "Wholesalers           2584\n",
       "Personal Customers     408\n",
       "dtype: int64"
      ]
     },
     "execution_count": 87,
     "metadata": {},
     "output_type": "execute_result"
    }
   ],
   "source": [
    "## count the values and get the classification for the unlabeled data\n",
    "labeled_df.value_counts('type_of_client')"
   ]
  },
  {
   "cell_type": "markdown",
   "metadata": {},
   "source": [
    "### Final Recommendations\n",
    "\n",
    "+ So finally, among 2992 customers for the prediction - the model predicts 2584 as wholesalers and 408 as personal customers.\n",
    "\n",
    "+ That counts to 86.36% of customers are wholesalers and 13.63% are personal customers.\n",
    "\n",
    "+ For this problem, As promised the  main concern was classifying wholesalers is seems to be considerable solved, as Flora is launching a new marketing campaign and their focus was getting to wholesalers without unnecessarily spamming the regular customers, as they are not the target, and they could have bad consequences if they are receiving a promotions and other benefits.\n",
    "\n",
    "+ We managed to improve the model, so it predicts wholesalers properly in 86% of the cases which is a good improvement and still there are 14% that might receive the notifications but can be avoided with the further second level actions.\n",
    "\n",
    "+ For such cases we strongly recommend to use unsupervised learning methodology of Machine Learning like  \n",
    "  Clustering - Principal Component Analysis and K-Means."
   ]
  }
 ],
 "metadata": {
  "kernelspec": {
   "display_name": "Python 3 (ipykernel)",
   "language": "python",
   "name": "python3"
  },
  "language_info": {
   "codemirror_mode": {
    "name": "ipython",
    "version": 3
   },
   "file_extension": ".py",
   "mimetype": "text/x-python",
   "name": "python",
   "nbconvert_exporter": "python",
   "pygments_lexer": "ipython3",
   "version": "3.9.7"
  },
  "toc": {
   "base_numbering": 1,
   "nav_menu": {},
   "number_sections": false,
   "sideBar": true,
   "skip_h1_title": false,
   "title_cell": "Table of Contents",
   "title_sidebar": "Contents",
   "toc_cell": false,
   "toc_position": {
    "height": "calc(100% - 180px)",
    "left": "10px",
    "top": "150px",
    "width": "320px"
   },
   "toc_section_display": true,
   "toc_window_display": true
  },
  "varInspector": {
   "cols": {
    "lenName": 16,
    "lenType": 16,
    "lenVar": 40
   },
   "kernels_config": {
    "python": {
     "delete_cmd_postfix": "",
     "delete_cmd_prefix": "del ",
     "library": "var_list.py",
     "varRefreshCmd": "print(var_dic_list())"
    },
    "r": {
     "delete_cmd_postfix": ") ",
     "delete_cmd_prefix": "rm(",
     "library": "var_list.r",
     "varRefreshCmd": "cat(var_dic_list()) "
    }
   },
   "types_to_exclude": [
    "module",
    "function",
    "builtin_function_or_method",
    "instance",
    "_Feature"
   ],
   "window_display": false
  }
 },
 "nbformat": 4,
 "nbformat_minor": 2
}
