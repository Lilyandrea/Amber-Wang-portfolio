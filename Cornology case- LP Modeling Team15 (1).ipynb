{
 "cells": [
  {
   "cell_type": "markdown",
   "id": "d7a6ffff",
   "metadata": {},
   "source": [
    "Cornology case- LP Modeling\n",
    "\n",
    "Team 15_MBAN1\n",
    "\n",
    "February 2022"
   ]
  },
  {
   "cell_type": "code",
   "execution_count": 3,
   "id": "55ae5666",
   "metadata": {},
   "outputs": [
    {
     "name": "stdout",
     "output_type": "stream",
     "text": [
      "Requirement already satisfied: pulp in /Users/katesu/opt/anaconda3/lib/python3.9/site-packages (2.6.0)\n",
      "Welcome to the CBC MILP Solver \n",
      "Version: 2.10.3 \n",
      "Build Date: Dec 15 2019 \n",
      "\n",
      "command line - /Users/katesu/opt/anaconda3/lib/python3.9/site-packages/pulp/apis/../solverdir/cbc/osx/64/cbc /var/folders/wk/y9rdrwj92177jxmt5lc4_7vm0000gn/T/2c2dc655143b4ef181c6fc3343c9cfc9-pulp.mps max timeMode elapsed branch printingOptions all solution /var/folders/wk/y9rdrwj92177jxmt5lc4_7vm0000gn/T/2c2dc655143b4ef181c6fc3343c9cfc9-pulp.sol (default strategy 1)\n",
      "At line 2 NAME          MODEL\n",
      "At line 3 ROWS\n",
      "At line 6 COLUMNS\n",
      "At line 39 RHS\n",
      "At line 41 BOUNDS\n",
      "At line 50 ENDATA\n",
      "Problem MODEL has 1 rows, 8 columns and 8 elements\n",
      "Coin0008I MODEL read with 0 errors\n",
      "Option for timeMode changed from cpu to elapsed\n",
      "Continuous objective value is 1.30232e+09 - 0.00 seconds\n",
      "Cgl0004I processed model has 0 rows, 0 columns (0 integer (0 of which binary)) and 0 elements\n",
      "Cbc3007W No integer variables - nothing to do\n",
      "Cuts at root node changed objective from -1.30232e+09 to -1.79769e+308\n",
      "Probing was tried 0 times and created 0 cuts of which 0 were active after adding rounds of cuts (0.000 seconds)\n",
      "Gomory was tried 0 times and created 0 cuts of which 0 were active after adding rounds of cuts (0.000 seconds)\n",
      "Knapsack was tried 0 times and created 0 cuts of which 0 were active after adding rounds of cuts (0.000 seconds)\n",
      "Clique was tried 0 times and created 0 cuts of which 0 were active after adding rounds of cuts (0.000 seconds)\n",
      "MixedIntegerRounding2 was tried 0 times and created 0 cuts of which 0 were active after adding rounds of cuts (0.000 seconds)\n",
      "FlowCover was tried 0 times and created 0 cuts of which 0 were active after adding rounds of cuts (0.000 seconds)\n",
      "TwoMirCuts was tried 0 times and created 0 cuts of which 0 were active after adding rounds of cuts (0.000 seconds)\n",
      "ZeroHalf was tried 0 times and created 0 cuts of which 0 were active after adding rounds of cuts (0.000 seconds)\n",
      "\n",
      "Result - Optimal solution found\n",
      "\n",
      "Objective value:                1302316998.99999976\n",
      "Enumerated nodes:               0\n",
      "Total iterations:               0\n",
      "Time (CPU seconds):             0.00\n",
      "Time (Wallclock seconds):       0.01\n",
      "\n",
      "Option for printingOptions changed from normal to all\n",
      "Total time (CPU seconds):       0.00   (Wallclock seconds):       0.01\n",
      "\n",
      "Optimal\n",
      "LP_cor_model:\n",
      "MAXIMIZE\n",
      "1176316999.0*NC_NE_WC + 1302316999.0*NC_SC + 1253716999.0*NC_SE + 1176747839*NE_NC_WC + 1290147839*NE_YRD + 1177696399*WC_NC_NE + 1114696399*WC_SC + 1277337500*YRD_NE + 0.0\n",
      "SUBJECT TO\n",
      "_C1: NC_NE_WC + NC_SC + NC_SE + NE_NC_WC + NE_YRD + WC_NC_NE + WC_SC + YRD_NE\n",
      " = 1\n",
      "\n",
      "VARIABLES\n",
      "0 <= NC_NE_WC <= 1 Integer\n",
      "0 <= NC_SC <= 1 Integer\n",
      "0 <= NC_SE <= 1 Integer\n",
      "0 <= NE_NC_WC <= 1 Integer\n",
      "0 <= NE_YRD <= 1 Integer\n",
      "0 <= WC_NC_NE <= 1 Integer\n",
      "0 <= WC_SC <= 1 Integer\n",
      "0 <= YRD_NE <= 1 Integer\n",
      "\n",
      "Objective function value is:  1302316999.0\n",
      " NC_NE_WC = 0.0 \n",
      " NC_SC = 1.0 \n",
      " NC_SE = 0.0 \n",
      " NE_NC_WC = 0.0 \n",
      " NE_YRD = 0.0 \n",
      " WC_NC_NE = 0.0 \n",
      " WC_SC = 0.0 \n",
      " YRD_NE = 0.0 \n"
     ]
    }
   ],
   "source": [
    "#!/usr/bin/env python\n",
    "\n",
    "get_ipython().system('pip install pulp # install pulp')\n",
    "\n",
    "##########################################\n",
    "######## Linear-Programming MODEL ########\n",
    "##########################################\n",
    "\n",
    "#########Importing necessary packaging for Linear-Programming MODEL ##########\n",
    "import pulp as p\n",
    "import pandas as pd"
   ]
  },
  {
   "cell_type": "code",
   "execution_count": 4,
   "id": "038012ae",
   "metadata": {},
   "outputs": [],
   "source": [
    "######### <LpProblem()> to create the maximization problem \"LP cor model\"#####\n",
    "lp_mo = p.LpProblem(\"LP_cor_model\", p.LpMaximize)\n",
    "\n",
    "################## <p.LpVariable> to create the decision variables ###########\n",
    "\n",
    "NE_YRD   = p.LpVariable(\"NE_YRD\", cat='Binary')    # Making binary-decision variable from entry port data of Nong Khai \n",
    "NE_NC_WC = p.LpVariable(\"NE_NC_WC\", cat='Binary')  # Making binary-decision variable from entry port data of Nong Khai  \n",
    "YRD_NE   = p.LpVariable(\"YRD_NE\", cat='Binary')    # Making binary-decision variable from entry prot data Bangkok \n",
    "NC_SE    = p.LpVariable(\"NC_SE\", cat='Binary')     # Making binary-decision variable from entry port data Chiang Rai\n",
    "NC_NE_WC = p.LpVariable(\"NC_NE_WC\", cat='Binary')  # Making binary-decision variable from entry port data Chiang Rai \n",
    "WC_SC    = p.LpVariable(\"WC_SC\", cat='Binary')     # Making binary-decision variable from entry port data Yala \n",
    "WC_NC_NE = p.LpVariable(\"WC_NC_NE\", cat='Binary')  # Making binary-decision variable from entry port data Yala \n",
    "NC_SC    = p.LpVariable(\"NC_SC\", cat='Binary')     # Making binary-decision variable from entry port data Chiang Rai \n"
   ]
  },
  {
   "cell_type": "code",
   "execution_count": 5,
   "id": "a0097657",
   "metadata": {},
   "outputs": [],
   "source": [
    "######################### Creating factory-cost Variables #####################\n",
    "\n",
    "Non_Kha_fac_cost    = 11252161    # The cost of production for Nong Khai\n",
    "Chi_Rai_fac_cost    = 10998001+(0.56*500000)+(0.7*600000)-(0.1*150000)        \n",
    "                                       # The cost of production for Chiang Rai \n",
    "Ban_fac_cost        = 24062500    # The cost of production for Bangkok \n",
    "Yala_fac_cost       = 10303601    # The cost of production for Yala\n"
   ]
  },
  {
   "cell_type": "code",
   "execution_count": 6,
   "id": "9affd9ff",
   "metadata": {},
   "outputs": [],
   "source": [
    "######################### Creating demand Variable ############################\n",
    "\n",
    "NEast_D_Ori     = 0           # The demand of original-North east (units)\n",
    "NEast_D_bla     = 70          # The demand of blast- North east (units)\n",
    "\n",
    "YRD_D_ori       = 180         # The demand of original- YRD (units)\n",
    "YRD_D_bla       = 112         # The demand of blast- YRD (units)\n",
    "\n",
    "SEast_D_ori     = 127         # The demand of original- South east (units)\n",
    "SEast_D_bla     = 37          # The demand of blast- South east (units)\n",
    "\n",
    "NCen_D_ori      = 90          # The demand of original- North central (units)\n",
    "NCen_D_bla      = 70          # The demand of blast- North central (units)\n",
    "\n",
    "SCen_D_ori      = 118         # The demand of original- South central (units)\n",
    "SCen_D_bla      = 70          # The demand of blast- South central (units)\n",
    "\n",
    "WChina_D_ori    = 90          # The demand of original- Western China (units)\n",
    "WChina_D_bla    = 0           # The demand of blast- Western China (units)\n",
    "\n",
    "Ori_profit      = 12500       # Profit per unit of original sold\n",
    "Bla_profit      = 7500        # Profit per unit of blast sold\n"
   ]
  },
  {
   "cell_type": "code",
   "execution_count": 7,
   "id": "69fb53fc",
   "metadata": {},
   "outputs": [],
   "source": [
    "#####################Profit for the all the paths ########################\n",
    "\n",
    "Profit_NEast  = NEast_D_Ori * Ori_profit + NEast_D_bla * Bla_profit    # Northeast path profit\n",
    "Profit_YRD    = YRD_D_ori * Ori_profit + YRD_D_bla * Bla_profit        # YRD path profit\n",
    "Profit_SEast  = SEast_D_ori * Ori_profit + SEast_D_bla * Bla_profit    # SouthEast path profit\n",
    "Profit_NCen   = NCen_D_ori * Ori_profit + NCen_D_bla * Bla_profit      # NorthCentral path profit\n",
    "Profit_SCen   = SCen_D_ori * Ori_profit + SCen_D_bla * Bla_profit      # SouthCentral path profit\n",
    "Profit_WChina = WChina_D_ori * Ori_profit + WChina_D_bla * Bla_profit  # WesternChina path profit"
   ]
  },
  {
   "cell_type": "code",
   "execution_count": 8,
   "id": "bbf26ff0",
   "metadata": {},
   "outputs": [],
   "source": [
    "############################# Objective function ###########################\n",
    "\n",
    "lp_mo += NE_YRD * ((Profit_NEast + Profit_YRD) * 360 - Non_Kha_fac_cost) + NE_NC_WC * ((Profit_NEast + Profit_NCen + Profit_WChina) * 360 - Non_Kha_fac_cost) + YRD_NE * ((Profit_YRD + Profit_NEast) * 360 - Ban_fac_cost) + NC_SE * ((Profit_NCen + Profit_SEast) * 360 - Chi_Rai_fac_cost) + NC_SC * ((Profit_NCen + Profit_SCen) * 360 - Chi_Rai_fac_cost) + NC_NE_WC * ((Profit_NCen + Profit_NEast + Profit_WChina) * 360 - Chi_Rai_fac_cost) + WC_SC * ((Profit_WChina + Profit_SCen) * 360 - Yala_fac_cost) + WC_NC_NE * ((Profit_WChina + Profit_NCen + Profit_NEast) * 360 - Yala_fac_cost)\n",
    "\n"
   ]
  },
  {
   "cell_type": "code",
   "execution_count": 9,
   "id": "d3b47dbc",
   "metadata": {},
   "outputs": [],
   "source": [
    "################################ constraints #################################\n",
    "########################## 5 runs of limited for all the demand###############\n",
    "\n",
    "\n",
    "lp_mo += NE_YRD + NE_NC_WC + YRD_NE + NC_SE + NC_SC + NC_NE_WC + WC_SC + WC_NC_NE == 1 # Only one possible path\n"
   ]
  },
  {
   "cell_type": "code",
   "execution_count": 10,
   "id": "59087933",
   "metadata": {},
   "outputs": [
    {
     "name": "stdout",
     "output_type": "stream",
     "text": [
      "Welcome to the CBC MILP Solver \n",
      "Version: 2.10.3 \n",
      "Build Date: Dec 15 2019 \n",
      "\n",
      "command line - /Users/katesu/opt/anaconda3/lib/python3.9/site-packages/pulp/apis/../solverdir/cbc/osx/64/cbc /var/folders/wk/y9rdrwj92177jxmt5lc4_7vm0000gn/T/c5ea056116e04df7a238a2d823bbda3e-pulp.mps max timeMode elapsed branch printingOptions all solution /var/folders/wk/y9rdrwj92177jxmt5lc4_7vm0000gn/T/c5ea056116e04df7a238a2d823bbda3e-pulp.sol (default strategy 1)\n",
      "At line 2 NAME          MODEL\n",
      "At line 3 ROWS\n",
      "At line 6 COLUMNS\n",
      "At line 39 RHS\n",
      "At line 41 BOUNDS\n",
      "At line 50 ENDATA\n",
      "Problem MODEL has 1 rows, 8 columns and 8 elements\n",
      "Coin0008I MODEL read with 0 errors\n",
      "Option for timeMode changed from cpu to elapsed\n",
      "Continuous objective value is 1.30232e+09 - 0.00 seconds\n",
      "Cgl0004I processed model has 0 rows, 0 columns (0 integer (0 of which binary)) and 0 elements\n",
      "Cbc3007W No integer variables - nothing to do\n",
      "Cuts at root node changed objective from -1.30232e+09 to -1.79769e+308\n",
      "Probing was tried 0 times and created 0 cuts of which 0 were active after adding rounds of cuts (0.000 seconds)\n",
      "Gomory was tried 0 times and created 0 cuts of which 0 were active after adding rounds of cuts (0.000 seconds)\n",
      "Knapsack was tried 0 times and created 0 cuts of which 0 were active after adding rounds of cuts (0.000 seconds)\n",
      "Clique was tried 0 times and created 0 cuts of which 0 were active after adding rounds of cuts (0.000 seconds)\n",
      "MixedIntegerRounding2 was tried 0 times and created 0 cuts of which 0 were active after adding rounds of cuts (0.000 seconds)\n",
      "FlowCover was tried 0 times and created 0 cuts of which 0 were active after adding rounds of cuts (0.000 seconds)\n",
      "TwoMirCuts was tried 0 times and created 0 cuts of which 0 were active after adding rounds of cuts (0.000 seconds)\n",
      "ZeroHalf was tried 0 times and created 0 cuts of which 0 were active after adding rounds of cuts (0.000 seconds)\n",
      "\n",
      "Result - Optimal solution found\n",
      "\n",
      "Objective value:                1302316998.99999976\n",
      "Enumerated nodes:               0\n",
      "Total iterations:               0\n",
      "Time (CPU seconds):             0.00\n",
      "Time (Wallclock seconds):       0.01\n",
      "\n",
      "Option for printingOptions changed from normal to all\n",
      "Total time (CPU seconds):       0.00   (Wallclock seconds):       0.02\n",
      "\n",
      "Optimal\n",
      "LP_cor_model:\n",
      "MAXIMIZE\n",
      "1176316999.0*NC_NE_WC + 1302316999.0*NC_SC + 1253716999.0*NC_SE + 1176747839*NE_NC_WC + 1290147839*NE_YRD + 1177696399*WC_NC_NE + 1114696399*WC_SC + 1277337500*YRD_NE + 0.0\n",
      "SUBJECT TO\n",
      "_C1: NC_NE_WC + NC_SC + NC_SE + NE_NC_WC + NE_YRD + WC_NC_NE + WC_SC + YRD_NE\n",
      " = 1\n",
      "\n",
      "VARIABLES\n",
      "0 <= NC_NE_WC <= 1 Integer\n",
      "0 <= NC_SC <= 1 Integer\n",
      "0 <= NC_SE <= 1 Integer\n",
      "0 <= NE_NC_WC <= 1 Integer\n",
      "0 <= NE_YRD <= 1 Integer\n",
      "0 <= WC_NC_NE <= 1 Integer\n",
      "0 <= WC_SC <= 1 Integer\n",
      "0 <= YRD_NE <= 1 Integer\n",
      "\n"
     ]
    }
   ],
   "source": [
    "############################# Soving the problem #############################\n",
    "\n",
    "status = lp_mo.solve()    # solving the model\n",
    "print(p.LpStatus[status])   # print the solved model\n",
    "print(lp_mo) # Display the problem "
   ]
  },
  {
   "cell_type": "code",
   "execution_count": 11,
   "id": "40804dca",
   "metadata": {},
   "outputs": [
    {
     "name": "stdout",
     "output_type": "stream",
     "text": [
      "Objective function value is:  1302316999.0\n"
     ]
    }
   ],
   "source": [
    "######################### Printing objective value ###########################\n",
    "print(\"Objective function value is: \", p.value(lp_mo.objective))"
   ]
  },
  {
   "cell_type": "code",
   "execution_count": 12,
   "id": "3745278b",
   "metadata": {},
   "outputs": [
    {
     "name": "stdout",
     "output_type": "stream",
     "text": [
      " NC_NE_WC = 0.0 \n",
      " NC_SC = 1.0 \n",
      " NC_SE = 0.0 \n",
      " NE_NC_WC = 0.0 \n",
      " NE_YRD = 0.0 \n",
      " WC_NC_NE = 0.0 \n",
      " WC_SC = 0.0 \n",
      " YRD_NE = 0.0 \n"
     ]
    }
   ],
   "source": [
    "############################ Printing the variables #########################\n",
    "for variable in lp_mo.variables():\n",
    "    print(\" {} = {} \".format(variable.name, variable.varValue))"
   ]
  },
  {
   "cell_type": "code",
   "execution_count": null,
   "id": "ed0316ca",
   "metadata": {},
   "outputs": [],
   "source": []
  }
 ],
 "metadata": {
  "kernelspec": {
   "display_name": "Python 3 (ipykernel)",
   "language": "python",
   "name": "python3"
  },
  "language_info": {
   "codemirror_mode": {
    "name": "ipython",
    "version": 3
   },
   "file_extension": ".py",
   "mimetype": "text/x-python",
   "name": "python",
   "nbconvert_exporter": "python",
   "pygments_lexer": "ipython3",
   "version": "3.9.7"
  },
  "toc": {
   "base_numbering": 1,
   "nav_menu": {},
   "number_sections": true,
   "sideBar": true,
   "skip_h1_title": false,
   "title_cell": "Table of Contents",
   "title_sidebar": "Contents",
   "toc_cell": false,
   "toc_position": {},
   "toc_section_display": true,
   "toc_window_display": false
  },
  "varInspector": {
   "cols": {
    "lenName": 16,
    "lenType": 16,
    "lenVar": 40
   },
   "kernels_config": {
    "python": {
     "delete_cmd_postfix": "",
     "delete_cmd_prefix": "del ",
     "library": "var_list.py",
     "varRefreshCmd": "print(var_dic_list())"
    },
    "r": {
     "delete_cmd_postfix": ") ",
     "delete_cmd_prefix": "rm(",
     "library": "var_list.r",
     "varRefreshCmd": "cat(var_dic_list()) "
    }
   },
   "types_to_exclude": [
    "module",
    "function",
    "builtin_function_or_method",
    "instance",
    "_Feature"
   ],
   "window_display": false
  }
 },
 "nbformat": 4,
 "nbformat_minor": 5
}
